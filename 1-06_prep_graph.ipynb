{
 "cells": [
  {
   "cell_type": "markdown",
   "metadata": {},
   "source": [
    "# Preparing Data for Graph Construction"
   ]
  },
  {
   "cell_type": "markdown",
   "metadata": {},
   "source": [
    "As part of our larger data science goal for this workshop, we will be working with data reflecting the entire road network of Great Britain. We have as a starting point road data extracted into tabular csv format from official [GML](https://en.wikipedia.org/wiki/Geography_Markup_Language) files. Ultimately, we would like to use cuGraph to perform GPU-accelerated graph analytics on this data, but in order to do so, we need to do some preprocessing to get it ready for graph creation.\n",
    "\n",
    "In this notebook you will be learning additional cuDF data transformation techniques, including the use of merges, in a demonstration of prepping the initial data for ingestion by cuGraph. Next, you will do a series of exercises to perform a similar transformation of the data for the creation of a graph with different edge weights."
   ]
  },
  {
   "cell_type": "markdown",
   "metadata": {},
   "source": [
    "## Objectives"
   ]
  },
  {
   "cell_type": "markdown",
   "metadata": {},
   "source": [
    "By the time you complete this notebook you will be able to:\n",
    "\n",
    "- Perform GPU-accelerated merge operations with cuDF\n",
    "- Prepare data for cuGraph ingest\n",
    "- Create a GPU-accelerated graph"
   ]
  },
  {
   "cell_type": "markdown",
   "metadata": {},
   "source": [
    "## Imports"
   ]
  },
  {
   "cell_type": "markdown",
   "metadata": {},
   "source": [
    "In addition to `cudf`, for this notebook we will also import `cugraph`, which we will use (after data preparation) to construct a GPU-accelerated graph. We also import `networkx` for a brief performance comparison later on."
   ]
  },
  {
   "cell_type": "code",
   "execution_count": 11,
   "metadata": {},
   "outputs": [],
   "source": [
    "import cudf\n",
    "import cugraph as cg\n",
    "\n",
    "import networkx as nx"
   ]
  },
  {
   "cell_type": "markdown",
   "metadata": {},
   "source": [
    "## Read Data"
   ]
  },
  {
   "cell_type": "markdown",
   "metadata": {},
   "source": [
    "In this notebook we will be working with two data sources that will help us create a graph of the UK's road networks."
   ]
  },
  {
   "cell_type": "markdown",
   "metadata": {},
   "source": [
    "### UK Road Nodes"
   ]
  },
  {
   "cell_type": "markdown",
   "metadata": {},
   "source": [
    "The first data table describes the nodes in the road network: endpoints, junctions (including roundabouts), and points that break up a long stretch of curving road so that it can be mapped correctly (instead of as a straight line).\n",
    "\n",
    "The coordinates for each point are in the OSGB36 format we explored earlier in section 1-05."
   ]
  },
  {
   "cell_type": "code",
   "execution_count": 12,
   "metadata": {},
   "outputs": [
    {
     "data": {
      "text/html": [
       "<div>\n",
       "<style scoped>\n",
       "    .dataframe tbody tr th:only-of-type {\n",
       "        vertical-align: middle;\n",
       "    }\n",
       "\n",
       "    .dataframe tbody tr th {\n",
       "        vertical-align: top;\n",
       "    }\n",
       "\n",
       "    .dataframe thead th {\n",
       "        text-align: right;\n",
       "    }\n",
       "</style>\n",
       "<table border=\"1\" class=\"dataframe\">\n",
       "  <thead>\n",
       "    <tr style=\"text-align: right;\">\n",
       "      <th></th>\n",
       "      <th>node_id</th>\n",
       "      <th>east</th>\n",
       "      <th>north</th>\n",
       "      <th>type</th>\n",
       "    </tr>\n",
       "  </thead>\n",
       "  <tbody>\n",
       "    <tr>\n",
       "      <th>0</th>\n",
       "      <td>id02FE73D4-E88D-4119-8DC2-6E80DE6F6594</td>\n",
       "      <td>320608.0938</td>\n",
       "      <td>870994.0000</td>\n",
       "      <td>junction</td>\n",
       "    </tr>\n",
       "    <tr>\n",
       "      <th>1</th>\n",
       "      <td>id634D65C1-C38B-4868-9080-2E1E47F0935C</td>\n",
       "      <td>320628.5000</td>\n",
       "      <td>871103.8125</td>\n",
       "      <td>road end</td>\n",
       "    </tr>\n",
       "    <tr>\n",
       "      <th>2</th>\n",
       "      <td>idDC14D4D1-774E-487D-8EDE-60B129E5482C</td>\n",
       "      <td>320635.4688</td>\n",
       "      <td>870983.9375</td>\n",
       "      <td>junction</td>\n",
       "    </tr>\n",
       "    <tr>\n",
       "      <th>3</th>\n",
       "      <td>id51555819-1A39-4B41-B0C9-C6D2086D9921</td>\n",
       "      <td>320648.7188</td>\n",
       "      <td>871083.5625</td>\n",
       "      <td>junction</td>\n",
       "    </tr>\n",
       "    <tr>\n",
       "      <th>4</th>\n",
       "      <td>id9E362428-79D7-4EE3-B015-0CE3F6A78A69</td>\n",
       "      <td>320658.1875</td>\n",
       "      <td>871162.3750</td>\n",
       "      <td>junction</td>\n",
       "    </tr>\n",
       "  </tbody>\n",
       "</table>\n",
       "</div>"
      ],
      "text/plain": [
       "                                  node_id         east        north      type\n",
       "0  id02FE73D4-E88D-4119-8DC2-6E80DE6F6594  320608.0938  870994.0000  junction\n",
       "1  id634D65C1-C38B-4868-9080-2E1E47F0935C  320628.5000  871103.8125  road end\n",
       "2  idDC14D4D1-774E-487D-8EDE-60B129E5482C  320635.4688  870983.9375  junction\n",
       "3  id51555819-1A39-4B41-B0C9-C6D2086D9921  320648.7188  871083.5625  junction\n",
       "4  id9E362428-79D7-4EE3-B015-0CE3F6A78A69  320658.1875  871162.3750  junction"
      ]
     },
     "execution_count": 12,
     "metadata": {},
     "output_type": "execute_result"
    }
   ],
   "source": [
    "road_nodes = cudf.read_csv('./data/road_nodes_1-06.csv')\n",
    "road_nodes.head()"
   ]
  },
  {
   "cell_type": "code",
   "execution_count": 13,
   "metadata": {},
   "outputs": [
    {
     "data": {
      "text/plain": [
       "node_id     object\n",
       "east       float64\n",
       "north      float64\n",
       "type        object\n",
       "dtype: object"
      ]
     },
     "execution_count": 13,
     "metadata": {},
     "output_type": "execute_result"
    }
   ],
   "source": [
    "road_nodes.dtypes"
   ]
  },
  {
   "cell_type": "code",
   "execution_count": 14,
   "metadata": {},
   "outputs": [
    {
     "data": {
      "text/plain": [
       "(3121148, 4)"
      ]
     },
     "execution_count": 14,
     "metadata": {},
     "output_type": "execute_result"
    }
   ],
   "source": [
    "road_nodes.shape"
   ]
  },
  {
   "cell_type": "code",
   "execution_count": 15,
   "metadata": {},
   "outputs": [
    {
     "data": {
      "text/plain": [
       "0       junction\n",
       "1    pseudo node\n",
       "2       road end\n",
       "3     roundabout\n",
       "Name: type, dtype: object"
      ]
     },
     "execution_count": 15,
     "metadata": {},
     "output_type": "execute_result"
    }
   ],
   "source": [
    "road_nodes['type'].unique()"
   ]
  },
  {
   "cell_type": "markdown",
   "metadata": {},
   "source": [
    "### UK Road Edges"
   ]
  },
  {
   "cell_type": "markdown",
   "metadata": {},
   "source": [
    "The second data table describes road segments, including their start and end points, how long they are, and what kind of road they are."
   ]
  },
  {
   "cell_type": "code",
   "execution_count": 16,
   "metadata": {},
   "outputs": [
    {
     "data": {
      "text/html": [
       "<div>\n",
       "<style scoped>\n",
       "    .dataframe tbody tr th:only-of-type {\n",
       "        vertical-align: middle;\n",
       "    }\n",
       "\n",
       "    .dataframe tbody tr th {\n",
       "        vertical-align: top;\n",
       "    }\n",
       "\n",
       "    .dataframe thead th {\n",
       "        text-align: right;\n",
       "    }\n",
       "</style>\n",
       "<table border=\"1\" class=\"dataframe\">\n",
       "  <thead>\n",
       "    <tr style=\"text-align: right;\">\n",
       "      <th></th>\n",
       "      <th>src_id</th>\n",
       "      <th>dst_id</th>\n",
       "      <th>length</th>\n",
       "      <th>type</th>\n",
       "      <th>form</th>\n",
       "    </tr>\n",
       "  </thead>\n",
       "  <tbody>\n",
       "    <tr>\n",
       "      <th>0</th>\n",
       "      <td>#id138447A5-91D4-4642-BFAC-13F309705429</td>\n",
       "      <td>#id84C9DAD4-9243-4742-B582-E8CBC848E08A</td>\n",
       "      <td>314</td>\n",
       "      <td>Restricted Local Access Road</td>\n",
       "      <td>Single Carriageway</td>\n",
       "    </tr>\n",
       "    <tr>\n",
       "      <th>1</th>\n",
       "      <td>#idD615F9C5-5BE9-412D-9FED-F4928BAB4146</td>\n",
       "      <td>#idA1BB20B9-0751-4B42-9925-20607ABF5027</td>\n",
       "      <td>104</td>\n",
       "      <td>Restricted Local Access Road</td>\n",
       "      <td>Single Carriageway</td>\n",
       "    </tr>\n",
       "    <tr>\n",
       "      <th>2</th>\n",
       "      <td>#idDC14D4D1-774E-487D-8EDE-60B129E5482C</td>\n",
       "      <td>#id51555819-1A39-4B41-B0C9-C6D2086D9921</td>\n",
       "      <td>100</td>\n",
       "      <td>Restricted Local Access Road</td>\n",
       "      <td>Single Carriageway</td>\n",
       "    </tr>\n",
       "    <tr>\n",
       "      <th>3</th>\n",
       "      <td>#id626FC567-199C-41FB-9F29-1AB718874128</td>\n",
       "      <td>#idACD1B0A9-F870-4B46-88CF-C870A9EDAF8B</td>\n",
       "      <td>93</td>\n",
       "      <td>Restricted Local Access Road</td>\n",
       "      <td>Single Carriageway</td>\n",
       "    </tr>\n",
       "    <tr>\n",
       "      <th>4</th>\n",
       "      <td>#id03312900-B147-4CA3-A858-E2BF6AD1ECA7</td>\n",
       "      <td>#id02FE73D4-E88D-4119-8DC2-6E80DE6F6594</td>\n",
       "      <td>95</td>\n",
       "      <td>Restricted Local Access Road</td>\n",
       "      <td>Single Carriageway</td>\n",
       "    </tr>\n",
       "  </tbody>\n",
       "</table>\n",
       "</div>"
      ],
      "text/plain": [
       "                                    src_id  \\\n",
       "0  #id138447A5-91D4-4642-BFAC-13F309705429   \n",
       "1  #idD615F9C5-5BE9-412D-9FED-F4928BAB4146   \n",
       "2  #idDC14D4D1-774E-487D-8EDE-60B129E5482C   \n",
       "3  #id626FC567-199C-41FB-9F29-1AB718874128   \n",
       "4  #id03312900-B147-4CA3-A858-E2BF6AD1ECA7   \n",
       "\n",
       "                                    dst_id  length  \\\n",
       "0  #id84C9DAD4-9243-4742-B582-E8CBC848E08A     314   \n",
       "1  #idA1BB20B9-0751-4B42-9925-20607ABF5027     104   \n",
       "2  #id51555819-1A39-4B41-B0C9-C6D2086D9921     100   \n",
       "3  #idACD1B0A9-F870-4B46-88CF-C870A9EDAF8B      93   \n",
       "4  #id02FE73D4-E88D-4119-8DC2-6E80DE6F6594      95   \n",
       "\n",
       "                           type                form  \n",
       "0  Restricted Local Access Road  Single Carriageway  \n",
       "1  Restricted Local Access Road  Single Carriageway  \n",
       "2  Restricted Local Access Road  Single Carriageway  \n",
       "3  Restricted Local Access Road  Single Carriageway  \n",
       "4  Restricted Local Access Road  Single Carriageway  "
      ]
     },
     "execution_count": 16,
     "metadata": {},
     "output_type": "execute_result"
    }
   ],
   "source": [
    "road_edges = cudf.read_csv('./data/road_edges_1-06.csv')\n",
    "road_edges.head()"
   ]
  },
  {
   "cell_type": "code",
   "execution_count": 17,
   "metadata": {},
   "outputs": [
    {
     "data": {
      "text/plain": [
       "src_id    object\n",
       "dst_id    object\n",
       "length     int64\n",
       "type      object\n",
       "form      object\n",
       "dtype: object"
      ]
     },
     "execution_count": 17,
     "metadata": {},
     "output_type": "execute_result"
    }
   ],
   "source": [
    "road_edges.dtypes"
   ]
  },
  {
   "cell_type": "code",
   "execution_count": 18,
   "metadata": {},
   "outputs": [
    {
     "data": {
      "text/plain": [
       "(3725531, 5)"
      ]
     },
     "execution_count": 18,
     "metadata": {},
     "output_type": "execute_result"
    }
   ],
   "source": [
    "road_edges.shape"
   ]
  },
  {
   "cell_type": "code",
   "execution_count": 19,
   "metadata": {},
   "outputs": [
    {
     "data": {
      "text/plain": [
       "0                          A Road\n",
       "1                          B Road\n",
       "2               Local Access Road\n",
       "3                      Local Road\n",
       "4                      Minor Road\n",
       "5                        Motorway\n",
       "6    Restricted Local Access Road\n",
       "7           Secondary Access Road\n",
       "Name: type, dtype: object"
      ]
     },
     "execution_count": 19,
     "metadata": {},
     "output_type": "execute_result"
    }
   ],
   "source": [
    "road_edges['type'].unique()"
   ]
  },
  {
   "cell_type": "code",
   "execution_count": 20,
   "metadata": {},
   "outputs": [
    {
     "data": {
      "text/plain": [
       "0    Collapsed Dual Carriageway\n",
       "1              Dual Carriageway\n",
       "2                 Guided Busway\n",
       "3                    Roundabout\n",
       "4        Shared Use Carriageway\n",
       "5            Single Carriageway\n",
       "6                     Slip Road\n",
       "Name: form, dtype: object"
      ]
     },
     "execution_count": 20,
     "metadata": {},
     "output_type": "execute_result"
    }
   ],
   "source": [
    "road_edges['form'].unique()"
   ]
  },
  {
   "cell_type": "markdown",
   "metadata": {},
   "source": [
    "## Exercise: Make IDs Compatible"
   ]
  },
  {
   "cell_type": "markdown",
   "metadata": {},
   "source": [
    "Our csv files were derived from original [GML](https://en.wikipedia.org/wiki/Geography_Markup_Language) files, and as you can see from the above, both `road_edges['src_id']` and `road_edges['dst_id']` contain a leading `#` character that `road_nodes['node_id']` does not. To make the IDs compatible between the edges and nodes, use cuDF's [string method](https://docs.rapids.ai/api/nvstrings/stable/) `.str.lstrip` to replace the `src_id` and `dst_id` columns in `road_edges` with values stripped of the leading `#` characters."
   ]
  },
  {
   "cell_type": "code",
   "execution_count": 21,
   "metadata": {},
   "outputs": [],
   "source": [
    "road_edges['src_id'] = road_edges['src_id'].str.lstrip('#')\n",
    "road_edges['dst_id'] = road_edges['dst_id'].str.lstrip('#')"
   ]
  },
  {
   "cell_type": "markdown",
   "metadata": {},
   "source": [
    "### Solution"
   ]
  },
  {
   "cell_type": "code",
   "execution_count": 22,
   "metadata": {},
   "outputs": [
    {
     "data": {
      "text/html": [
       "<div>\n",
       "<style scoped>\n",
       "    .dataframe tbody tr th:only-of-type {\n",
       "        vertical-align: middle;\n",
       "    }\n",
       "\n",
       "    .dataframe tbody tr th {\n",
       "        vertical-align: top;\n",
       "    }\n",
       "\n",
       "    .dataframe thead th {\n",
       "        text-align: right;\n",
       "    }\n",
       "</style>\n",
       "<table border=\"1\" class=\"dataframe\">\n",
       "  <thead>\n",
       "    <tr style=\"text-align: right;\">\n",
       "      <th></th>\n",
       "      <th>src_id</th>\n",
       "      <th>dst_id</th>\n",
       "    </tr>\n",
       "  </thead>\n",
       "  <tbody>\n",
       "    <tr>\n",
       "      <th>0</th>\n",
       "      <td>id138447A5-91D4-4642-BFAC-13F309705429</td>\n",
       "      <td>id84C9DAD4-9243-4742-B582-E8CBC848E08A</td>\n",
       "    </tr>\n",
       "    <tr>\n",
       "      <th>1</th>\n",
       "      <td>idD615F9C5-5BE9-412D-9FED-F4928BAB4146</td>\n",
       "      <td>idA1BB20B9-0751-4B42-9925-20607ABF5027</td>\n",
       "    </tr>\n",
       "    <tr>\n",
       "      <th>2</th>\n",
       "      <td>idDC14D4D1-774E-487D-8EDE-60B129E5482C</td>\n",
       "      <td>id51555819-1A39-4B41-B0C9-C6D2086D9921</td>\n",
       "    </tr>\n",
       "    <tr>\n",
       "      <th>3</th>\n",
       "      <td>id626FC567-199C-41FB-9F29-1AB718874128</td>\n",
       "      <td>idACD1B0A9-F870-4B46-88CF-C870A9EDAF8B</td>\n",
       "    </tr>\n",
       "    <tr>\n",
       "      <th>4</th>\n",
       "      <td>id03312900-B147-4CA3-A858-E2BF6AD1ECA7</td>\n",
       "      <td>id02FE73D4-E88D-4119-8DC2-6E80DE6F6594</td>\n",
       "    </tr>\n",
       "  </tbody>\n",
       "</table>\n",
       "</div>"
      ],
      "text/plain": [
       "                                   src_id  \\\n",
       "0  id138447A5-91D4-4642-BFAC-13F309705429   \n",
       "1  idD615F9C5-5BE9-412D-9FED-F4928BAB4146   \n",
       "2  idDC14D4D1-774E-487D-8EDE-60B129E5482C   \n",
       "3  id626FC567-199C-41FB-9F29-1AB718874128   \n",
       "4  id03312900-B147-4CA3-A858-E2BF6AD1ECA7   \n",
       "\n",
       "                                   dst_id  \n",
       "0  id84C9DAD4-9243-4742-B582-E8CBC848E08A  \n",
       "1  idA1BB20B9-0751-4B42-9925-20607ABF5027  \n",
       "2  id51555819-1A39-4B41-B0C9-C6D2086D9921  \n",
       "3  idACD1B0A9-F870-4B46-88CF-C870A9EDAF8B  \n",
       "4  id02FE73D4-E88D-4119-8DC2-6E80DE6F6594  "
      ]
     },
     "execution_count": 22,
     "metadata": {},
     "output_type": "execute_result"
    }
   ],
   "source": [
    "# %load solutions/make_ids_compatible\n",
    "road_edges['src_id'] = road_edges['src_id'].str.lstrip('#')\n",
    "road_edges['dst_id'] = road_edges['dst_id'].str.lstrip('#')\n",
    "road_edges[['src_id', 'dst_id']].head()\n"
   ]
  },
  {
   "cell_type": "markdown",
   "metadata": {},
   "source": [
    "## Exercise: Remove Duplicates"
   ]
  },
  {
   "cell_type": "markdown",
   "metadata": {},
   "source": [
    "Our data originally came from multiple map tiles, and roads which crossed a tile boundary were captured in both the tile from which they started and the tile on which they ended.\n",
    "\n",
    "Use the `drop_duplicates` method for both `road_nodes` and `road_edges` to remove these duplicate values, and `reset_index` with the parameter `drop=True` to give the new dataframes a contiguous range index."
   ]
  },
  {
   "cell_type": "code",
   "execution_count": 23,
   "metadata": {},
   "outputs": [
    {
     "data": {
      "text/html": [
       "<div>\n",
       "<style scoped>\n",
       "    .dataframe tbody tr th:only-of-type {\n",
       "        vertical-align: middle;\n",
       "    }\n",
       "\n",
       "    .dataframe tbody tr th {\n",
       "        vertical-align: top;\n",
       "    }\n",
       "\n",
       "    .dataframe thead th {\n",
       "        text-align: right;\n",
       "    }\n",
       "</style>\n",
       "<table border=\"1\" class=\"dataframe\">\n",
       "  <thead>\n",
       "    <tr style=\"text-align: right;\">\n",
       "      <th></th>\n",
       "      <th>node_id</th>\n",
       "      <th>east</th>\n",
       "      <th>north</th>\n",
       "      <th>type</th>\n",
       "    </tr>\n",
       "  </thead>\n",
       "  <tbody>\n",
       "    <tr>\n",
       "      <th>0</th>\n",
       "      <td>id02FE73D4-E88D-4119-8DC2-6E80DE6F6594</td>\n",
       "      <td>320608.0938</td>\n",
       "      <td>870994.0000</td>\n",
       "      <td>junction</td>\n",
       "    </tr>\n",
       "    <tr>\n",
       "      <th>1</th>\n",
       "      <td>id634D65C1-C38B-4868-9080-2E1E47F0935C</td>\n",
       "      <td>320628.5000</td>\n",
       "      <td>871103.8125</td>\n",
       "      <td>road end</td>\n",
       "    </tr>\n",
       "    <tr>\n",
       "      <th>2</th>\n",
       "      <td>idDC14D4D1-774E-487D-8EDE-60B129E5482C</td>\n",
       "      <td>320635.4688</td>\n",
       "      <td>870983.9375</td>\n",
       "      <td>junction</td>\n",
       "    </tr>\n",
       "    <tr>\n",
       "      <th>3</th>\n",
       "      <td>id51555819-1A39-4B41-B0C9-C6D2086D9921</td>\n",
       "      <td>320648.7188</td>\n",
       "      <td>871083.5625</td>\n",
       "      <td>junction</td>\n",
       "    </tr>\n",
       "    <tr>\n",
       "      <th>4</th>\n",
       "      <td>id9E362428-79D7-4EE3-B015-0CE3F6A78A69</td>\n",
       "      <td>320658.1875</td>\n",
       "      <td>871162.3750</td>\n",
       "      <td>junction</td>\n",
       "    </tr>\n",
       "    <tr>\n",
       "      <th>...</th>\n",
       "      <td>...</td>\n",
       "      <td>...</td>\n",
       "      <td>...</td>\n",
       "      <td>...</td>\n",
       "    </tr>\n",
       "    <tr>\n",
       "      <th>3121143</th>\n",
       "      <td>id822E4253-1FC9-41F5-BB21-18BFA2C7B236</td>\n",
       "      <td>299267.9063</td>\n",
       "      <td>508339.3125</td>\n",
       "      <td>road end</td>\n",
       "    </tr>\n",
       "    <tr>\n",
       "      <th>3121144</th>\n",
       "      <td>id5655B2AF-E3F8-414B-93D5-CBDD617F20D2</td>\n",
       "      <td>299283.9375</td>\n",
       "      <td>508378.6875</td>\n",
       "      <td>road end</td>\n",
       "    </tr>\n",
       "    <tr>\n",
       "      <th>3121145</th>\n",
       "      <td>idB8647015-DD34-416A-B195-3F02B096D53F</td>\n",
       "      <td>299361.5000</td>\n",
       "      <td>509276.8125</td>\n",
       "      <td>junction</td>\n",
       "    </tr>\n",
       "    <tr>\n",
       "      <th>3121146</th>\n",
       "      <td>id3A811ECE-8672-402E-AD59-C9A381FD49BC</td>\n",
       "      <td>299538.0000</td>\n",
       "      <td>509220.0000</td>\n",
       "      <td>junction</td>\n",
       "    </tr>\n",
       "    <tr>\n",
       "      <th>3121147</th>\n",
       "      <td>idB1D520E5-F20F-4F95-AC06-4828EB560327</td>\n",
       "      <td>299646.0000</td>\n",
       "      <td>508944.0000</td>\n",
       "      <td>junction</td>\n",
       "    </tr>\n",
       "  </tbody>\n",
       "</table>\n",
       "<p>3121148 rows × 4 columns</p>\n",
       "</div>"
      ],
      "text/plain": [
       "                                        node_id         east        north  \\\n",
       "0        id02FE73D4-E88D-4119-8DC2-6E80DE6F6594  320608.0938  870994.0000   \n",
       "1        id634D65C1-C38B-4868-9080-2E1E47F0935C  320628.5000  871103.8125   \n",
       "2        idDC14D4D1-774E-487D-8EDE-60B129E5482C  320635.4688  870983.9375   \n",
       "3        id51555819-1A39-4B41-B0C9-C6D2086D9921  320648.7188  871083.5625   \n",
       "4        id9E362428-79D7-4EE3-B015-0CE3F6A78A69  320658.1875  871162.3750   \n",
       "...                                         ...          ...          ...   \n",
       "3121143  id822E4253-1FC9-41F5-BB21-18BFA2C7B236  299267.9063  508339.3125   \n",
       "3121144  id5655B2AF-E3F8-414B-93D5-CBDD617F20D2  299283.9375  508378.6875   \n",
       "3121145  idB8647015-DD34-416A-B195-3F02B096D53F  299361.5000  509276.8125   \n",
       "3121146  id3A811ECE-8672-402E-AD59-C9A381FD49BC  299538.0000  509220.0000   \n",
       "3121147  idB1D520E5-F20F-4F95-AC06-4828EB560327  299646.0000  508944.0000   \n",
       "\n",
       "             type  \n",
       "0        junction  \n",
       "1        road end  \n",
       "2        junction  \n",
       "3        junction  \n",
       "4        junction  \n",
       "...           ...  \n",
       "3121143  road end  \n",
       "3121144  road end  \n",
       "3121145  junction  \n",
       "3121146  junction  \n",
       "3121147  junction  \n",
       "\n",
       "[3121148 rows x 4 columns]"
      ]
     },
     "execution_count": 23,
     "metadata": {},
     "output_type": "execute_result"
    }
   ],
   "source": [
    "road_nodes.drop_duplicates()\n",
    "road_edges.drop_duplicates()\n",
    "road_edges.reset_index(drop=True)\n",
    "road_nodes.reset_index(drop=True)"
   ]
  },
  {
   "cell_type": "markdown",
   "metadata": {},
   "source": [
    "#### Solution"
   ]
  },
  {
   "cell_type": "code",
   "execution_count": 24,
   "metadata": {},
   "outputs": [],
   "source": [
    "# %load solutions/remove_duplicates\n",
    "road_nodes = road_nodes.drop_duplicates().reset_index(drop=True)\n",
    "road_edges = road_edges.drop_duplicates().reset_index(drop=True)\n"
   ]
  },
  {
   "cell_type": "markdown",
   "metadata": {},
   "source": [
    "## Data Summary"
   ]
  },
  {
   "cell_type": "markdown",
   "metadata": {},
   "source": [
    "Now that the data is cleaned we can see just how many roads and endpoints/junctions/curve points we will be working with, as well as its memory footprint in our GPU."
   ]
  },
  {
   "cell_type": "code",
   "execution_count": 25,
   "metadata": {},
   "outputs": [
    {
     "name": "stdout",
     "output_type": "stream",
     "text": [
      "3667200 edges, 3078117 nodes\n"
     ]
    }
   ],
   "source": [
    "print(f'{road_edges.shape[0]} edges, {road_nodes.shape[0]} nodes')"
   ]
  },
  {
   "cell_type": "code",
   "execution_count": 26,
   "metadata": {},
   "outputs": [
    {
     "name": "stdout",
     "output_type": "stream",
     "text": [
      "Mon Oct  5 01:32:24 2020       \n",
      "+-----------------------------------------------------------------------------+\n",
      "| NVIDIA-SMI 440.33.01    Driver Version: 440.33.01    CUDA Version: 10.2     |\n",
      "|-------------------------------+----------------------+----------------------+\n",
      "| GPU  Name        Persistence-M| Bus-Id        Disp.A | Volatile Uncorr. ECC |\n",
      "| Fan  Temp  Perf  Pwr:Usage/Cap|         Memory-Usage | GPU-Util  Compute M. |\n",
      "|===============================+======================+======================|\n",
      "|   0  Tesla V100-SXM2...  Off  | 00000000:00:1B.0 Off |                    0 |\n",
      "| N/A   47C    P0    59W / 300W |   3556MiB / 16160MiB |      0%      Default |\n",
      "+-------------------------------+----------------------+----------------------+\n",
      "|   1  Tesla V100-SXM2...  Off  | 00000000:00:1C.0 Off |                    0 |\n",
      "| N/A   42C    P0    39W / 300W |     11MiB / 16160MiB |      0%      Default |\n",
      "+-------------------------------+----------------------+----------------------+\n",
      "|   2  Tesla V100-SXM2...  Off  | 00000000:00:1D.0 Off |                    0 |\n",
      "| N/A   43C    P0    39W / 300W |     11MiB / 16160MiB |      0%      Default |\n",
      "+-------------------------------+----------------------+----------------------+\n",
      "|   3  Tesla V100-SXM2...  Off  | 00000000:00:1E.0 Off |                    0 |\n",
      "| N/A   46C    P0    41W / 300W |     11MiB / 16160MiB |      0%      Default |\n",
      "+-------------------------------+----------------------+----------------------+\n",
      "                                                                               \n",
      "+-----------------------------------------------------------------------------+\n",
      "| Processes:                                                       GPU Memory |\n",
      "|  GPU       PID   Type   Process name                             Usage      |\n",
      "|=============================================================================|\n",
      "+-----------------------------------------------------------------------------+\n"
     ]
    }
   ],
   "source": [
    "!nvidia-smi"
   ]
  },
  {
   "cell_type": "markdown",
   "metadata": {},
   "source": [
    "## Prep Data for Building the Road Network Graph"
   ]
  },
  {
   "cell_type": "markdown",
   "metadata": {},
   "source": [
    "The cuGraph graph constructor that we will be using later expects edge sources, edge destinations, and (optionally) edge weights. Edge sources and destinations must be a compact interval of 32-bit integers from 0 to *N*-1, where *N* is the number of nodes in the graph.\n",
    "\n",
    "Furthermore, in RAPIDS v0.12, undirected edges in cuGraph must be stored as directed edges in both directions. Since our data does not indicate one-way roads, we will assume that all roads can be treated as two-way (undirected).\n",
    "\n",
    "These constraints will require some preparation, but they allow for the blazing-fast analytics we will be exploring later.\n",
    "\n",
    "As it stands, and contrary to our needs, our `road_edges` dataframe consists of `src_id` and `dst_id` strings which match `node_id` values in the `road_nodes`. Furthermore, our road edges are recorded as going from one source to one destination even when they are two-way roads."
   ]
  },
  {
   "cell_type": "code",
   "execution_count": 27,
   "metadata": {},
   "outputs": [
    {
     "data": {
      "text/plain": [
       "src_id    object\n",
       "dst_id    object\n",
       "dtype: object"
      ]
     },
     "execution_count": 27,
     "metadata": {},
     "output_type": "execute_result"
    }
   ],
   "source": [
    "road_edges[['src_id', 'dst_id']].dtypes"
   ]
  },
  {
   "cell_type": "code",
   "execution_count": 28,
   "metadata": {},
   "outputs": [
    {
     "data": {
      "text/plain": [
       "'id000000F5-5180-4C03-B05D-B01352C54F89'"
      ]
     },
     "execution_count": 28,
     "metadata": {},
     "output_type": "execute_result"
    }
   ],
   "source": [
    "road_edges['src_id'][0]"
   ]
  },
  {
   "cell_type": "code",
   "execution_count": 29,
   "metadata": {},
   "outputs": [
    {
     "data": {
      "text/plain": [
       "'id0ABF4CB2-6997-4952-A9AA-313DE2EF6538'"
      ]
     },
     "execution_count": 29,
     "metadata": {},
     "output_type": "execute_result"
    }
   ],
   "source": [
    "road_edges['dst_id'][0]"
   ]
  },
  {
   "cell_type": "code",
   "execution_count": 30,
   "metadata": {},
   "outputs": [
    {
     "data": {
      "text/plain": [
       "dtype('O')"
      ]
     },
     "execution_count": 30,
     "metadata": {},
     "output_type": "execute_result"
    }
   ],
   "source": [
    "road_nodes['node_id'].dtype"
   ]
  },
  {
   "cell_type": "code",
   "execution_count": 31,
   "metadata": {},
   "outputs": [
    {
     "data": {
      "text/plain": [
       "'id000000F5-5180-4C03-B05D-B01352C54F89'"
      ]
     },
     "execution_count": 31,
     "metadata": {},
     "output_type": "execute_result"
    }
   ],
   "source": [
    "road_nodes['node_id'][0]"
   ]
  },
  {
   "cell_type": "markdown",
   "metadata": {},
   "source": [
    "In order to prepare our data for constructing a graph with cuGraph, we will do the following:\n",
    "\n",
    "1. Create a unique int32 value for each `node_id`, which we will call that node's `graph_id`, and save the mapping from `node_id` to `graph_id`. Whenever we get results from analyzing the graph, we can use the mapping to look up which original node corresponding to that `graph_id`.\n",
    "2. Use the mapping to update `road_edges` with `graph_id`s for each edge's start and end points. We will ultimately call the mapped source points `graph_src` and the destination points `graph_dst`.\n",
    "3. Create a new dataframe with the same edges, but with swapped source and destination points, then concatenate that swapped dataframe to the original and deduplicate (so that each road will be treated in the graph as two-way)."
   ]
  },
  {
   "cell_type": "markdown",
   "metadata": {},
   "source": [
    "### Create `graph_id`s"
   ]
  },
  {
   "cell_type": "markdown",
   "metadata": {},
   "source": [
    "The dataframe method `factorize` produces both an integer labeling of the `node_id` values and the mapping series that reflects that labeling."
   ]
  },
  {
   "cell_type": "code",
   "execution_count": 32,
   "metadata": {},
   "outputs": [
    {
     "data": {
      "text/plain": [
       "0    id000000F5-5180-4C03-B05D-B01352C54F89\n",
       "1    id000003F8-9E09-4829-AD87-6DA4438D22D8\n",
       "2    id000010DA-C89A-4198-847A-6E62815E038A\n",
       "3    id000017A0-1843-4BC7-BCF7-C943B6780839\n",
       "4    id00001B2A-155F-4CD3-8E06-7677ADC6AF74\n",
       "dtype: object"
      ]
     },
     "execution_count": 32,
     "metadata": {},
     "output_type": "execute_result"
    }
   ],
   "source": [
    "all_node_ids = road_edges['src_id'].append(road_edges['dst_id'], ignore_index=True) # ignore_index to prevent index overlap\n",
    "graph_ids, mapping_series = all_node_ids.factorize()\n",
    "mapping_series.head()"
   ]
  },
  {
   "cell_type": "markdown",
   "metadata": {},
   "source": [
    "### Reattach `graph_id`s onto `road_edges`"
   ]
  },
  {
   "cell_type": "markdown",
   "metadata": {},
   "source": [
    "We now need to add `graph_id` columns into `road_edges` twice: once to create a new source ID column, and again to create a new destination ID column. Because we preserved the order of the `src_id` and `dst_id` columns when sending them to `factorize`, we can simply split the resulting `graph_id`s in half and attach them back to `road_edges`."
   ]
  },
  {
   "cell_type": "code",
   "execution_count": 33,
   "metadata": {},
   "outputs": [
    {
     "data": {
      "text/html": [
       "<div>\n",
       "<style scoped>\n",
       "    .dataframe tbody tr th:only-of-type {\n",
       "        vertical-align: middle;\n",
       "    }\n",
       "\n",
       "    .dataframe tbody tr th {\n",
       "        vertical-align: top;\n",
       "    }\n",
       "\n",
       "    .dataframe thead th {\n",
       "        text-align: right;\n",
       "    }\n",
       "</style>\n",
       "<table border=\"1\" class=\"dataframe\">\n",
       "  <thead>\n",
       "    <tr style=\"text-align: right;\">\n",
       "      <th></th>\n",
       "      <th>src_id</th>\n",
       "      <th>dst_id</th>\n",
       "      <th>length</th>\n",
       "      <th>type</th>\n",
       "      <th>form</th>\n",
       "      <th>graph_src</th>\n",
       "      <th>graph_dst</th>\n",
       "    </tr>\n",
       "  </thead>\n",
       "  <tbody>\n",
       "    <tr>\n",
       "      <th>0</th>\n",
       "      <td>id000000F5-5180-4C03-B05D-B01352C54F89</td>\n",
       "      <td>id0ABF4CB2-6997-4952-A9AA-313DE2EF6538</td>\n",
       "      <td>44</td>\n",
       "      <td>Local Road</td>\n",
       "      <td>Single Carriageway</td>\n",
       "      <td>0</td>\n",
       "      <td>129165</td>\n",
       "    </tr>\n",
       "    <tr>\n",
       "      <th>1</th>\n",
       "      <td>id000003F8-9E09-4829-AD87-6DA4438D22D8</td>\n",
       "      <td>id8B9308E8-DD5C-4C5B-AE92-A8F6C471B551</td>\n",
       "      <td>70</td>\n",
       "      <td>Secondary Access Road</td>\n",
       "      <td>Single Carriageway</td>\n",
       "      <td>1</td>\n",
       "      <td>1678323</td>\n",
       "    </tr>\n",
       "    <tr>\n",
       "      <th>2</th>\n",
       "      <td>id000003F8-9E09-4829-AD87-6DA4438D22D8</td>\n",
       "      <td>idCE926C8D-A698-410F-BE88-0EDE56BB0476</td>\n",
       "      <td>40</td>\n",
       "      <td>Local Road</td>\n",
       "      <td>Single Carriageway</td>\n",
       "      <td>1</td>\n",
       "      <td>2483057</td>\n",
       "    </tr>\n",
       "    <tr>\n",
       "      <th>3</th>\n",
       "      <td>id000010DA-C89A-4198-847A-6E62815E038A</td>\n",
       "      <td>id000010DA-C89A-4198-847A-6E62815E038A</td>\n",
       "      <td>55</td>\n",
       "      <td>Local Road</td>\n",
       "      <td>Single Carriageway</td>\n",
       "      <td>2</td>\n",
       "      <td>2</td>\n",
       "    </tr>\n",
       "    <tr>\n",
       "      <th>4</th>\n",
       "      <td>id000017A0-1843-4BC7-BCF7-C943B6780839</td>\n",
       "      <td>idECFC5CB9-4FD9-4377-8D68-00B1D2654547</td>\n",
       "      <td>71</td>\n",
       "      <td>Local Road</td>\n",
       "      <td>Single Carriageway</td>\n",
       "      <td>3</td>\n",
       "      <td>2848890</td>\n",
       "    </tr>\n",
       "  </tbody>\n",
       "</table>\n",
       "</div>"
      ],
      "text/plain": [
       "                                   src_id  \\\n",
       "0  id000000F5-5180-4C03-B05D-B01352C54F89   \n",
       "1  id000003F8-9E09-4829-AD87-6DA4438D22D8   \n",
       "2  id000003F8-9E09-4829-AD87-6DA4438D22D8   \n",
       "3  id000010DA-C89A-4198-847A-6E62815E038A   \n",
       "4  id000017A0-1843-4BC7-BCF7-C943B6780839   \n",
       "\n",
       "                                   dst_id  length                   type  \\\n",
       "0  id0ABF4CB2-6997-4952-A9AA-313DE2EF6538      44             Local Road   \n",
       "1  id8B9308E8-DD5C-4C5B-AE92-A8F6C471B551      70  Secondary Access Road   \n",
       "2  idCE926C8D-A698-410F-BE88-0EDE56BB0476      40             Local Road   \n",
       "3  id000010DA-C89A-4198-847A-6E62815E038A      55             Local Road   \n",
       "4  idECFC5CB9-4FD9-4377-8D68-00B1D2654547      71             Local Road   \n",
       "\n",
       "                 form  graph_src  graph_dst  \n",
       "0  Single Carriageway          0     129165  \n",
       "1  Single Carriageway          1    1678323  \n",
       "2  Single Carriageway          1    2483057  \n",
       "3  Single Carriageway          2          2  \n",
       "4  Single Carriageway          3    2848890  "
      ]
     },
     "execution_count": 33,
     "metadata": {},
     "output_type": "execute_result"
    }
   ],
   "source": [
    "half_index = int((all_node_ids.shape[0]/2))\n",
    "road_edges['graph_src'] = graph_ids.iloc[:half_index]\n",
    "road_edges['graph_dst'] = graph_ids.iloc[half_index:].reset_index(drop=True) # reset_index to reverse the ignore_index above\n",
    "road_edges.head()"
   ]
  },
  {
   "cell_type": "markdown",
   "metadata": {},
   "source": [
    "### Merge `graph_id` into `road_nodes`"
   ]
  },
  {
   "cell_type": "markdown",
   "metadata": {},
   "source": [
    "cuDF provides merging functionality just like Pandas. Even though we don't directly need `road_nodes` to construct our graph, we will need it later in the workshop to geospatially analyze where the roads are.\n",
    "\n",
    "Since we will join the mapping to `road_nodes` via the `node_id` column, we convert the mapping's index to a `graph_id` column."
   ]
  },
  {
   "cell_type": "code",
   "execution_count": 34,
   "metadata": {},
   "outputs": [
    {
     "data": {
      "text/html": [
       "<div>\n",
       "<style scoped>\n",
       "    .dataframe tbody tr th:only-of-type {\n",
       "        vertical-align: middle;\n",
       "    }\n",
       "\n",
       "    .dataframe tbody tr th {\n",
       "        vertical-align: top;\n",
       "    }\n",
       "\n",
       "    .dataframe thead th {\n",
       "        text-align: right;\n",
       "    }\n",
       "</style>\n",
       "<table border=\"1\" class=\"dataframe\">\n",
       "  <thead>\n",
       "    <tr style=\"text-align: right;\">\n",
       "      <th></th>\n",
       "      <th>node_id</th>\n",
       "      <th>graph_id</th>\n",
       "    </tr>\n",
       "  </thead>\n",
       "  <tbody>\n",
       "    <tr>\n",
       "      <th>0</th>\n",
       "      <td>id000000F5-5180-4C03-B05D-B01352C54F89</td>\n",
       "      <td>0</td>\n",
       "    </tr>\n",
       "    <tr>\n",
       "      <th>1</th>\n",
       "      <td>id000003F8-9E09-4829-AD87-6DA4438D22D8</td>\n",
       "      <td>1</td>\n",
       "    </tr>\n",
       "    <tr>\n",
       "      <th>2</th>\n",
       "      <td>id000010DA-C89A-4198-847A-6E62815E038A</td>\n",
       "      <td>2</td>\n",
       "    </tr>\n",
       "    <tr>\n",
       "      <th>3</th>\n",
       "      <td>id000017A0-1843-4BC7-BCF7-C943B6780839</td>\n",
       "      <td>3</td>\n",
       "    </tr>\n",
       "    <tr>\n",
       "      <th>4</th>\n",
       "      <td>id00001B2A-155F-4CD3-8E06-7677ADC6AF74</td>\n",
       "      <td>4</td>\n",
       "    </tr>\n",
       "  </tbody>\n",
       "</table>\n",
       "</div>"
      ],
      "text/plain": [
       "                                  node_id  graph_id\n",
       "0  id000000F5-5180-4C03-B05D-B01352C54F89         0\n",
       "1  id000003F8-9E09-4829-AD87-6DA4438D22D8         1\n",
       "2  id000010DA-C89A-4198-847A-6E62815E038A         2\n",
       "3  id000017A0-1843-4BC7-BCF7-C943B6780839         3\n",
       "4  id00001B2A-155F-4CD3-8E06-7677ADC6AF74         4"
      ]
     },
     "execution_count": 34,
     "metadata": {},
     "output_type": "execute_result"
    }
   ],
   "source": [
    "node_id_to_graph_id_mapping = cudf.DataFrame()\n",
    "node_id_to_graph_id_mapping['node_id'] = mapping_series\n",
    "node_id_to_graph_id_mapping['graph_id'] = cudf.Series(mapping_series.index)\n",
    "node_id_to_graph_id_mapping.head()"
   ]
  },
  {
   "cell_type": "markdown",
   "metadata": {},
   "source": [
    "We now add the `graph_id` column to `road_nodes` by performing a merge:"
   ]
  },
  {
   "cell_type": "code",
   "execution_count": 35,
   "metadata": {},
   "outputs": [
    {
     "name": "stdout",
     "output_type": "stream",
     "text": [
      "CPU times: user 88 ms, sys: 104 ms, total: 192 ms\n",
      "Wall time: 188 ms\n"
     ]
    },
    {
     "data": {
      "text/html": [
       "<div>\n",
       "<style scoped>\n",
       "    .dataframe tbody tr th:only-of-type {\n",
       "        vertical-align: middle;\n",
       "    }\n",
       "\n",
       "    .dataframe tbody tr th {\n",
       "        vertical-align: top;\n",
       "    }\n",
       "\n",
       "    .dataframe thead th {\n",
       "        text-align: right;\n",
       "    }\n",
       "</style>\n",
       "<table border=\"1\" class=\"dataframe\">\n",
       "  <thead>\n",
       "    <tr style=\"text-align: right;\">\n",
       "      <th></th>\n",
       "      <th>node_id</th>\n",
       "      <th>east</th>\n",
       "      <th>north</th>\n",
       "      <th>type</th>\n",
       "      <th>graph_id</th>\n",
       "    </tr>\n",
       "  </thead>\n",
       "  <tbody>\n",
       "    <tr>\n",
       "      <th>0</th>\n",
       "      <td>id040D1AA6-DECA-4E49-8B79-077932272CBB</td>\n",
       "      <td>450737.0000</td>\n",
       "      <td>506461.000</td>\n",
       "      <td>road end</td>\n",
       "      <td>48736</td>\n",
       "    </tr>\n",
       "    <tr>\n",
       "      <th>1</th>\n",
       "      <td>id040D1BFB-B7A3-45DB-B7B3-B547CC135AEA</td>\n",
       "      <td>506833.0000</td>\n",
       "      <td>102916.000</td>\n",
       "      <td>junction</td>\n",
       "      <td>48737</td>\n",
       "    </tr>\n",
       "    <tr>\n",
       "      <th>2</th>\n",
       "      <td>id040D26F4-D78C-4077-9DA6-5FC560C6A5D6</td>\n",
       "      <td>433340.0000</td>\n",
       "      <td>416171.000</td>\n",
       "      <td>road end</td>\n",
       "      <td>48738</td>\n",
       "    </tr>\n",
       "    <tr>\n",
       "      <th>3</th>\n",
       "      <td>id040D3244-20A1-447C-98BC-AED626CCF1BE</td>\n",
       "      <td>413415.3750</td>\n",
       "      <td>429897.625</td>\n",
       "      <td>junction</td>\n",
       "      <td>48739</td>\n",
       "    </tr>\n",
       "    <tr>\n",
       "      <th>4</th>\n",
       "      <td>id040D3D22-832F-49EF-A8A8-6F53188CC87F</td>\n",
       "      <td>241705.2969</td>\n",
       "      <td>599384.375</td>\n",
       "      <td>junction</td>\n",
       "      <td>48740</td>\n",
       "    </tr>\n",
       "  </tbody>\n",
       "</table>\n",
       "</div>"
      ],
      "text/plain": [
       "                                  node_id         east       north      type  \\\n",
       "0  id040D1AA6-DECA-4E49-8B79-077932272CBB  450737.0000  506461.000  road end   \n",
       "1  id040D1BFB-B7A3-45DB-B7B3-B547CC135AEA  506833.0000  102916.000  junction   \n",
       "2  id040D26F4-D78C-4077-9DA6-5FC560C6A5D6  433340.0000  416171.000  road end   \n",
       "3  id040D3244-20A1-447C-98BC-AED626CCF1BE  413415.3750  429897.625  junction   \n",
       "4  id040D3D22-832F-49EF-A8A8-6F53188CC87F  241705.2969  599384.375  junction   \n",
       "\n",
       "   graph_id  \n",
       "0     48736  \n",
       "1     48737  \n",
       "2     48738  \n",
       "3     48739  \n",
       "4     48740  "
      ]
     },
     "execution_count": 35,
     "metadata": {},
     "output_type": "execute_result"
    }
   ],
   "source": [
    "%time road_nodes = road_nodes.merge(node_id_to_graph_id_mapping, on='node_id', how='left')\n",
    "road_nodes.head()"
   ]
  },
  {
   "cell_type": "markdown",
   "metadata": {},
   "source": [
    "#### Reindex `road_nodes`"
   ]
  },
  {
   "cell_type": "markdown",
   "metadata": {},
   "source": [
    "For efficient lookup later, we will reindex `road_nodes` to use the `graph_id` as its index - remember, we will typically get results from the graph analytics in terms of `graph_id`s, so this lets us easily pull other information about the nodes (like their locations). We then sort the dataframe on this new index:"
   ]
  },
  {
   "cell_type": "code",
   "execution_count": 36,
   "metadata": {},
   "outputs": [
    {
     "name": "stdout",
     "output_type": "stream",
     "text": [
      "CPU times: user 48 ms, sys: 72 ms, total: 120 ms\n",
      "Wall time: 120 ms\n"
     ]
    },
    {
     "data": {
      "text/html": [
       "<div>\n",
       "<style scoped>\n",
       "    .dataframe tbody tr th:only-of-type {\n",
       "        vertical-align: middle;\n",
       "    }\n",
       "\n",
       "    .dataframe tbody tr th {\n",
       "        vertical-align: top;\n",
       "    }\n",
       "\n",
       "    .dataframe thead th {\n",
       "        text-align: right;\n",
       "    }\n",
       "</style>\n",
       "<table border=\"1\" class=\"dataframe\">\n",
       "  <thead>\n",
       "    <tr style=\"text-align: right;\">\n",
       "      <th></th>\n",
       "      <th>node_id</th>\n",
       "      <th>east</th>\n",
       "      <th>north</th>\n",
       "      <th>type</th>\n",
       "    </tr>\n",
       "    <tr>\n",
       "      <th>graph_id</th>\n",
       "      <th></th>\n",
       "      <th></th>\n",
       "      <th></th>\n",
       "      <th></th>\n",
       "    </tr>\n",
       "  </thead>\n",
       "  <tbody>\n",
       "    <tr>\n",
       "      <th>0</th>\n",
       "      <td>id000000F5-5180-4C03-B05D-B01352C54F89</td>\n",
       "      <td>432920.250</td>\n",
       "      <td>572547.4375</td>\n",
       "      <td>road end</td>\n",
       "    </tr>\n",
       "    <tr>\n",
       "      <th>1</th>\n",
       "      <td>id000003F8-9E09-4829-AD87-6DA4438D22D8</td>\n",
       "      <td>526616.375</td>\n",
       "      <td>189678.3906</td>\n",
       "      <td>junction</td>\n",
       "    </tr>\n",
       "    <tr>\n",
       "      <th>2</th>\n",
       "      <td>id000010DA-C89A-4198-847A-6E62815E038A</td>\n",
       "      <td>336879.000</td>\n",
       "      <td>731824.0000</td>\n",
       "      <td>junction</td>\n",
       "    </tr>\n",
       "    <tr>\n",
       "      <th>3</th>\n",
       "      <td>id000017A0-1843-4BC7-BCF7-C943B6780839</td>\n",
       "      <td>380635.000</td>\n",
       "      <td>390153.0000</td>\n",
       "      <td>junction</td>\n",
       "    </tr>\n",
       "    <tr>\n",
       "      <th>4</th>\n",
       "      <td>id00001B2A-155F-4CD3-8E06-7677ADC6AF74</td>\n",
       "      <td>337481.000</td>\n",
       "      <td>350509.7188</td>\n",
       "      <td>junction</td>\n",
       "    </tr>\n",
       "  </tbody>\n",
       "</table>\n",
       "</div>"
      ],
      "text/plain": [
       "                                         node_id        east        north  \\\n",
       "graph_id                                                                    \n",
       "0         id000000F5-5180-4C03-B05D-B01352C54F89  432920.250  572547.4375   \n",
       "1         id000003F8-9E09-4829-AD87-6DA4438D22D8  526616.375  189678.3906   \n",
       "2         id000010DA-C89A-4198-847A-6E62815E038A  336879.000  731824.0000   \n",
       "3         id000017A0-1843-4BC7-BCF7-C943B6780839  380635.000  390153.0000   \n",
       "4         id00001B2A-155F-4CD3-8E06-7677ADC6AF74  337481.000  350509.7188   \n",
       "\n",
       "              type  \n",
       "graph_id            \n",
       "0         road end  \n",
       "1         junction  \n",
       "2         junction  \n",
       "3         junction  \n",
       "4         junction  "
      ]
     },
     "execution_count": 36,
     "metadata": {},
     "output_type": "execute_result"
    }
   ],
   "source": [
    "road_nodes = road_nodes.set_index('graph_id', drop=True)\n",
    "%time road_nodes = road_nodes.sort_index()\n",
    "road_nodes.head()"
   ]
  },
  {
   "cell_type": "markdown",
   "metadata": {},
   "source": [
    "### Build Dataframe with Columns Needed for Graph Construction"
   ]
  },
  {
   "cell_type": "markdown",
   "metadata": {},
   "source": [
    "Before making our graph data undirected, let's construct a smaller dataframe with only the columns we will need to give to the cuGraph constructor so we can avoid repeatedly moving unnecessary data:"
   ]
  },
  {
   "cell_type": "code",
   "execution_count": 37,
   "metadata": {},
   "outputs": [
    {
     "name": "stdout",
     "output_type": "stream",
     "text": [
      "(3667200, 3)\n"
     ]
    },
    {
     "data": {
      "text/plain": [
       "src         int32\n",
       "dst         int32\n",
       "length    float32\n",
       "dtype: object"
      ]
     },
     "execution_count": 37,
     "metadata": {},
     "output_type": "execute_result"
    }
   ],
   "source": [
    "graph_prep = cudf.DataFrame()\n",
    "graph_prep['src']    = road_edges['graph_src']\n",
    "graph_prep['dst']    = road_edges['graph_dst']\n",
    "graph_prep['length'] = road_edges['length'].astype('float32') # cuGraph expects edge weights as floating points\n",
    "print(graph_prep.shape)\n",
    "graph_prep.dtypes"
   ]
  },
  {
   "cell_type": "markdown",
   "metadata": {},
   "source": [
    "### Make Graph Undirected"
   ]
  },
  {
   "cell_type": "markdown",
   "metadata": {},
   "source": [
    "We now make our graph undirected by creating a new dataframe with sources and destinations swapped, concatenating that new dataframe to `graph_prep`:"
   ]
  },
  {
   "cell_type": "code",
   "execution_count": 38,
   "metadata": {},
   "outputs": [
    {
     "data": {
      "text/plain": [
       "(7334400, 3)"
      ]
     },
     "execution_count": 38,
     "metadata": {},
     "output_type": "execute_result"
    }
   ],
   "source": [
    "rev_gdf = cudf.DataFrame()\n",
    "\n",
    "rev_gdf['src'] = graph_prep['dst']\n",
    "rev_gdf['dst'] = graph_prep['src']\n",
    "rev_gdf['length'] = graph_prep['length']\n",
    "\n",
    "graph_prep = cudf.concat([graph_prep, rev_gdf], \n",
    "                          ignore_index=True)\n",
    "graph_prep.shape"
   ]
  },
  {
   "cell_type": "markdown",
   "metadata": {},
   "source": [
    "While it's possible to have road edges with the same starting and ending nodes but different lengths (say, a loop that breaks off from and rejoins a main road), for simplicity we will deduplicate the edge list while ignoring `length` so that there is only one (undirected) edge between each pair of connected nodes."
   ]
  },
  {
   "cell_type": "code",
   "execution_count": 39,
   "metadata": {},
   "outputs": [
    {
     "data": {
      "text/plain": [
       "(7218169, 3)"
      ]
     },
     "execution_count": 39,
     "metadata": {},
     "output_type": "execute_result"
    }
   ],
   "source": [
    "graph_prep.drop_duplicates(subset=['src', 'dst'], inplace=True)\n",
    "graph_prep.shape"
   ]
  },
  {
   "cell_type": "markdown",
   "metadata": {},
   "source": [
    "Let's confirm `graph_prep` contains a compact interval of int32 IDs:"
   ]
  },
  {
   "cell_type": "code",
   "execution_count": 43,
   "metadata": {},
   "outputs": [
    {
     "data": {
      "text/plain": [
       "True"
      ]
     },
     "execution_count": 43,
     "metadata": {},
     "output_type": "execute_result"
    }
   ],
   "source": [
    "# The min src or dst ID is 0\n",
    "graph_prep[['src', 'dst']].min().min() == 0"
   ]
  },
  {
   "cell_type": "code",
   "execution_count": 41,
   "metadata": {},
   "outputs": [
    {
     "data": {
      "text/plain": [
       "True"
      ]
     },
     "execution_count": 41,
     "metadata": {},
     "output_type": "execute_result"
    }
   ],
   "source": [
    "# The max src or dst id is the number of nodes - 1\n",
    "graph_prep[['src', 'dst']].max().max() == road_nodes['node_id'].unique().shape[0] - 1"
   ]
  },
  {
   "cell_type": "code",
   "execution_count": 42,
   "metadata": {},
   "outputs": [
    {
     "data": {
      "text/plain": [
       "src    int32\n",
       "dst    int32\n",
       "dtype: object"
      ]
     },
     "execution_count": 42,
     "metadata": {},
     "output_type": "execute_result"
    }
   ],
   "source": [
    "# The ID dtypes are int32s\n",
    "graph_prep[['src', 'dst']].dtypes"
   ]
  },
  {
   "cell_type": "markdown",
   "metadata": {},
   "source": [
    "## Construct Graph with cuGraph"
   ]
  },
  {
   "cell_type": "markdown",
   "metadata": {},
   "source": [
    "Now that we have `graph_prep` prepped correctly, we can use cuGraph to create our graph, which we can then use for accelerated analysis. In order to do so, we first use cuGraph to instantiate a `Graph` instance, and then initialize it with edge sources, edge destinations, and edge weights, which for our data will be the length of the roads:"
   ]
  },
  {
   "cell_type": "code",
   "execution_count": 44,
   "metadata": {},
   "outputs": [
    {
     "name": "stdout",
     "output_type": "stream",
     "text": [
      "CPU times: user 704 ms, sys: 72 ms, total: 776 ms\n",
      "Wall time: 773 ms\n"
     ]
    }
   ],
   "source": [
    "G = cg.Graph()\n",
    "%time G.from_cudf_edgelist(graph_prep, source='src', destination='dst', edge_attr='length')"
   ]
  },
  {
   "cell_type": "markdown",
   "metadata": {},
   "source": [
    "You can see how fast the whole preparation and construction process can be, even starting from the beginning, by restarting the kernel, clicking on this text, and then selecting \"Run All Above Selected Cell\" from the Run menu (should take under ten seconds).\n",
    "\n",
    "Just as a point of comparison, we also construct the equivalent graph in NetworkX from the equivalent cleaned and prepped Pandas dataframe. This should take a minute or so - feel free to read ahead while it processes."
   ]
  },
  {
   "cell_type": "code",
   "execution_count": 45,
   "metadata": {},
   "outputs": [
    {
     "name": "stdout",
     "output_type": "stream",
     "text": [
      "CPU times: user 47.6 s, sys: 1.1 s, total: 48.7 s\n",
      "Wall time: 48.7 s\n"
     ]
    }
   ],
   "source": [
    "graph_prep_cpu = graph_prep.to_pandas()\n",
    "\n",
    "%time G_cpu = nx.convert_matrix.from_pandas_edgelist(graph_prep_cpu, source='src', target='dst', edge_attr='length')"
   ]
  },
  {
   "cell_type": "markdown",
   "metadata": {},
   "source": [
    "### Analyzing the Graph"
   ]
  },
  {
   "cell_type": "markdown",
   "metadata": {},
   "source": [
    "Now that we have created the graph we can analyze the number of nodes and edges in it:"
   ]
  },
  {
   "cell_type": "code",
   "execution_count": 46,
   "metadata": {},
   "outputs": [
    {
     "data": {
      "text/plain": [
       "3078117"
      ]
     },
     "execution_count": 46,
     "metadata": {},
     "output_type": "execute_result"
    }
   ],
   "source": [
    "G.number_of_nodes()"
   ]
  },
  {
   "cell_type": "code",
   "execution_count": 47,
   "metadata": {},
   "outputs": [
    {
     "data": {
      "text/plain": [
       "7218169"
      ]
     },
     "execution_count": 47,
     "metadata": {},
     "output_type": "execute_result"
    }
   ],
   "source": [
    "G.number_of_edges()"
   ]
  },
  {
   "cell_type": "markdown",
   "metadata": {},
   "source": [
    "We can also analyze the degrees of our graph nodes:"
   ]
  },
  {
   "cell_type": "code",
   "execution_count": 48,
   "metadata": {},
   "outputs": [],
   "source": [
    "deg_df = G.degree()"
   ]
  },
  {
   "cell_type": "markdown",
   "metadata": {},
   "source": [
    "We duplicated every edge to make the graph undirected, so we expect the nodes to have a minimum degree of 2:"
   ]
  },
  {
   "cell_type": "code",
   "execution_count": 49,
   "metadata": {},
   "outputs": [
    {
     "data": {
      "text/plain": [
       "mean     4.689990\n",
       "std      1.913452\n",
       "min      2.000000\n",
       "25%      2.000000\n",
       "50%      6.000000\n",
       "75%      6.000000\n",
       "max     16.000000\n",
       "Name: degree, dtype: float64"
      ]
     },
     "execution_count": 49,
     "metadata": {},
     "output_type": "execute_result"
    }
   ],
   "source": [
    "deg_df['degree'].describe()[1:]"
   ]
  },
  {
   "cell_type": "markdown",
   "metadata": {},
   "source": [
    "You will spend more time using this GPU-accelerated graph later in the workshop."
   ]
  },
  {
   "cell_type": "markdown",
   "metadata": {},
   "source": [
    "## Exercise: Construct a Graph of Roads with Time Weights"
   ]
  },
  {
   "cell_type": "markdown",
   "metadata": {},
   "source": [
    "For this series of exercises, you are going to construct and analyze a new graph of Great Britain's roads using the techniques just demonstrated, but this time, instead of using raw distance for the edges' weights, you will be using the time it will take to travel between the two nodes.\n",
    "\n",
    "You will be beginning this exercise with the `road_edges` dataframe from earlier, which already contains the unique int32 `graph_id`s we need for graph construction in `graph_src` and `graph_dst`:"
   ]
  },
  {
   "cell_type": "code",
   "execution_count": 50,
   "metadata": {},
   "outputs": [
    {
     "data": {
      "text/plain": [
       "src_id       object\n",
       "dst_id       object\n",
       "length        int64\n",
       "type         object\n",
       "form         object\n",
       "graph_src     int32\n",
       "graph_dst     int32\n",
       "dtype: object"
      ]
     },
     "execution_count": 50,
     "metadata": {},
     "output_type": "execute_result"
    }
   ],
   "source": [
    "road_edges.dtypes"
   ]
  },
  {
   "cell_type": "markdown",
   "metadata": {},
   "source": [
    "### Road Type to Speed Conversion"
   ]
  },
  {
   "cell_type": "markdown",
   "metadata": {},
   "source": [
    "In order to calculate how long it should take to travel along a road, we need to know its speed limit. We will do this by utilizing `road_edges['type']`, along with rules for the speed limits for each type of road.\n",
    "\n",
    "Here are the unique types of roads in our data:"
   ]
  },
  {
   "cell_type": "code",
   "execution_count": 51,
   "metadata": {},
   "outputs": [
    {
     "data": {
      "text/plain": [
       "0                          A Road\n",
       "1                          B Road\n",
       "2               Local Access Road\n",
       "3                      Local Road\n",
       "4                      Minor Road\n",
       "5                        Motorway\n",
       "6    Restricted Local Access Road\n",
       "7           Secondary Access Road\n",
       "Name: type, dtype: object"
      ]
     },
     "execution_count": 51,
     "metadata": {},
     "output_type": "execute_result"
    }
   ],
   "source": [
    "road_edges['type'].unique()"
   ]
  },
  {
   "cell_type": "markdown",
   "metadata": {},
   "source": [
    "And here is a table with assumptions about speed limits we can use for our conversion:"
   ]
  },
  {
   "cell_type": "code",
   "execution_count": 52,
   "metadata": {},
   "outputs": [],
   "source": [
    "# https://www.rac.co.uk/drive/advice/legal/speed-limits/\n",
    "# Technically, speed limits depend on whether a road is in a built-up area and the form of carriageway,\n",
    "# but we can use road type as a proxy for built-up areas.\n",
    "# Values are in mph.\n",
    "\n",
    "speed_limits = {'Motorway': 70,\n",
    "               'A Road': 60,\n",
    "               'B Road': 60,\n",
    "               'Local Road': 30,\n",
    "               'Local Access Road': 30,\n",
    "               'Minor Road': 30,\n",
    "               'Restricted Local Access Road': 30,\n",
    "               'Secondary Access Road': 30}"
   ]
  },
  {
   "cell_type": "markdown",
   "metadata": {},
   "source": [
    "We begin by creating `speed_gdf` to store each road type with its speed limit:"
   ]
  },
  {
   "cell_type": "code",
   "execution_count": 53,
   "metadata": {},
   "outputs": [
    {
     "data": {
      "text/html": [
       "<div>\n",
       "<style scoped>\n",
       "    .dataframe tbody tr th:only-of-type {\n",
       "        vertical-align: middle;\n",
       "    }\n",
       "\n",
       "    .dataframe tbody tr th {\n",
       "        vertical-align: top;\n",
       "    }\n",
       "\n",
       "    .dataframe thead th {\n",
       "        text-align: right;\n",
       "    }\n",
       "</style>\n",
       "<table border=\"1\" class=\"dataframe\">\n",
       "  <thead>\n",
       "    <tr style=\"text-align: right;\">\n",
       "      <th></th>\n",
       "      <th>type</th>\n",
       "      <th>limit_mph</th>\n",
       "    </tr>\n",
       "  </thead>\n",
       "  <tbody>\n",
       "    <tr>\n",
       "      <th>0</th>\n",
       "      <td>Motorway</td>\n",
       "      <td>70</td>\n",
       "    </tr>\n",
       "    <tr>\n",
       "      <th>1</th>\n",
       "      <td>A Road</td>\n",
       "      <td>60</td>\n",
       "    </tr>\n",
       "    <tr>\n",
       "      <th>2</th>\n",
       "      <td>B Road</td>\n",
       "      <td>60</td>\n",
       "    </tr>\n",
       "    <tr>\n",
       "      <th>3</th>\n",
       "      <td>Local Road</td>\n",
       "      <td>30</td>\n",
       "    </tr>\n",
       "    <tr>\n",
       "      <th>4</th>\n",
       "      <td>Local Access Road</td>\n",
       "      <td>30</td>\n",
       "    </tr>\n",
       "    <tr>\n",
       "      <th>5</th>\n",
       "      <td>Minor Road</td>\n",
       "      <td>30</td>\n",
       "    </tr>\n",
       "    <tr>\n",
       "      <th>6</th>\n",
       "      <td>Restricted Local Access Road</td>\n",
       "      <td>30</td>\n",
       "    </tr>\n",
       "    <tr>\n",
       "      <th>7</th>\n",
       "      <td>Secondary Access Road</td>\n",
       "      <td>30</td>\n",
       "    </tr>\n",
       "  </tbody>\n",
       "</table>\n",
       "</div>"
      ],
      "text/plain": [
       "                           type  limit_mph\n",
       "0                      Motorway         70\n",
       "1                        A Road         60\n",
       "2                        B Road         60\n",
       "3                    Local Road         30\n",
       "4             Local Access Road         30\n",
       "5                    Minor Road         30\n",
       "6  Restricted Local Access Road         30\n",
       "7         Secondary Access Road         30"
      ]
     },
     "execution_count": 53,
     "metadata": {},
     "output_type": "execute_result"
    }
   ],
   "source": [
    "speed_gdf = cudf.DataFrame()\n",
    "\n",
    "speed_gdf['type'] = speed_limits.keys()\n",
    "speed_gdf['limit_mph'] = [speed_limits[key] for key in speed_limits.keys()]\n",
    "speed_gdf"
   ]
  },
  {
   "cell_type": "markdown",
   "metadata": {},
   "source": [
    "Next we add an additional column, `limit_m/s`, which for each road type will give us a measure of how fast one can travel on it in meters / second."
   ]
  },
  {
   "cell_type": "code",
   "execution_count": 54,
   "metadata": {},
   "outputs": [
    {
     "data": {
      "text/html": [
       "<div>\n",
       "<style scoped>\n",
       "    .dataframe tbody tr th:only-of-type {\n",
       "        vertical-align: middle;\n",
       "    }\n",
       "\n",
       "    .dataframe tbody tr th {\n",
       "        vertical-align: top;\n",
       "    }\n",
       "\n",
       "    .dataframe thead th {\n",
       "        text-align: right;\n",
       "    }\n",
       "</style>\n",
       "<table border=\"1\" class=\"dataframe\">\n",
       "  <thead>\n",
       "    <tr style=\"text-align: right;\">\n",
       "      <th></th>\n",
       "      <th>type</th>\n",
       "      <th>limit_mph</th>\n",
       "      <th>limit_m/s</th>\n",
       "    </tr>\n",
       "  </thead>\n",
       "  <tbody>\n",
       "    <tr>\n",
       "      <th>0</th>\n",
       "      <td>Motorway</td>\n",
       "      <td>70</td>\n",
       "      <td>31.292722</td>\n",
       "    </tr>\n",
       "    <tr>\n",
       "      <th>1</th>\n",
       "      <td>A Road</td>\n",
       "      <td>60</td>\n",
       "      <td>26.822333</td>\n",
       "    </tr>\n",
       "    <tr>\n",
       "      <th>2</th>\n",
       "      <td>B Road</td>\n",
       "      <td>60</td>\n",
       "      <td>26.822333</td>\n",
       "    </tr>\n",
       "    <tr>\n",
       "      <th>3</th>\n",
       "      <td>Local Road</td>\n",
       "      <td>30</td>\n",
       "      <td>13.411167</td>\n",
       "    </tr>\n",
       "    <tr>\n",
       "      <th>4</th>\n",
       "      <td>Local Access Road</td>\n",
       "      <td>30</td>\n",
       "      <td>13.411167</td>\n",
       "    </tr>\n",
       "    <tr>\n",
       "      <th>5</th>\n",
       "      <td>Minor Road</td>\n",
       "      <td>30</td>\n",
       "      <td>13.411167</td>\n",
       "    </tr>\n",
       "    <tr>\n",
       "      <th>6</th>\n",
       "      <td>Restricted Local Access Road</td>\n",
       "      <td>30</td>\n",
       "      <td>13.411167</td>\n",
       "    </tr>\n",
       "    <tr>\n",
       "      <th>7</th>\n",
       "      <td>Secondary Access Road</td>\n",
       "      <td>30</td>\n",
       "      <td>13.411167</td>\n",
       "    </tr>\n",
       "  </tbody>\n",
       "</table>\n",
       "</div>"
      ],
      "text/plain": [
       "                           type  limit_mph  limit_m/s\n",
       "0                      Motorway         70  31.292722\n",
       "1                        A Road         60  26.822333\n",
       "2                        B Road         60  26.822333\n",
       "3                    Local Road         30  13.411167\n",
       "4             Local Access Road         30  13.411167\n",
       "5                    Minor Road         30  13.411167\n",
       "6  Restricted Local Access Road         30  13.411167\n",
       "7         Secondary Access Road         30  13.411167"
      ]
     },
     "execution_count": 54,
     "metadata": {},
     "output_type": "execute_result"
    }
   ],
   "source": [
    "# We will have road distances in meters (m), so to get road distances in seconds (s), we need to multiply by meters/mile and divide by seconds/hour\n",
    "# 1 mile ~ 1609.34 m\n",
    "speed_gdf['limit_m/s'] = speed_gdf['limit_mph'] * 1609.34 / 3600\n",
    "speed_gdf"
   ]
  },
  {
   "cell_type": "markdown",
   "metadata": {},
   "source": [
    "### Step 1: Merge `speed_gdf` into `road_edges`"
   ]
  },
  {
   "cell_type": "markdown",
   "metadata": {},
   "source": [
    "Since we will be using values in `road_edges` to construct our graph, we need to merge `speed_gdf` into `road_edges`. You can join on the `type` column, which both of these dataframes share."
   ]
  },
  {
   "cell_type": "code",
   "execution_count": 59,
   "metadata": {},
   "outputs": [
    {
     "name": "stdout",
     "output_type": "stream",
     "text": [
      "CPU times: user 180 ms, sys: 196 ms, total: 376 ms\n",
      "Wall time: 376 ms\n"
     ]
    }
   ],
   "source": [
    "%time road_edges = road_edges.merge(speed_gdf, on='type')"
   ]
  },
  {
   "cell_type": "markdown",
   "metadata": {},
   "source": [
    "#### Solution"
   ]
  },
  {
   "cell_type": "code",
   "execution_count": 56,
   "metadata": {},
   "outputs": [],
   "source": [
    "# %load solutions/merge_speed_gdf\n",
    "road_edges = road_edges.merge(speed_gdf, on='type')\n",
    "road_edges.dtypes\n"
   ]
  },
  {
   "cell_type": "markdown",
   "metadata": {},
   "source": [
    "### Step 2: Add Length in Seconds Column"
   ]
  },
  {
   "cell_type": "markdown",
   "metadata": {},
   "source": [
    "You now need to calculate the number of seconds it will take to traverse a given road at the speed limit. This can be done by dividing a road's length in m by its speed limit in m/s. Perform this calculation on `road_edges` and store the results in a new column `length_s`."
   ]
  },
  {
   "cell_type": "code",
   "execution_count": 61,
   "metadata": {},
   "outputs": [
    {
     "data": {
      "text/html": [
       "<div>\n",
       "<style scoped>\n",
       "    .dataframe tbody tr th:only-of-type {\n",
       "        vertical-align: middle;\n",
       "    }\n",
       "\n",
       "    .dataframe tbody tr th {\n",
       "        vertical-align: top;\n",
       "    }\n",
       "\n",
       "    .dataframe thead th {\n",
       "        text-align: right;\n",
       "    }\n",
       "</style>\n",
       "<table border=\"1\" class=\"dataframe\">\n",
       "  <thead>\n",
       "    <tr style=\"text-align: right;\">\n",
       "      <th></th>\n",
       "      <th>src_id</th>\n",
       "      <th>dst_id</th>\n",
       "      <th>length</th>\n",
       "      <th>type</th>\n",
       "      <th>form</th>\n",
       "      <th>graph_src</th>\n",
       "      <th>graph_dst</th>\n",
       "      <th>limit_mph</th>\n",
       "      <th>limit_m/s</th>\n",
       "      <th>length_s</th>\n",
       "    </tr>\n",
       "  </thead>\n",
       "  <tbody>\n",
       "    <tr>\n",
       "      <th>0</th>\n",
       "      <td>id002F39E2-6647-4BEF-BB9E-D96456E54696</td>\n",
       "      <td>idC04BE207-03A6-40E6-8C05-0E645B4AA50B</td>\n",
       "      <td>47</td>\n",
       "      <td>Local Road</td>\n",
       "      <td>Single Carriageway</td>\n",
       "      <td>2254</td>\n",
       "      <td>2311469</td>\n",
       "      <td>30</td>\n",
       "      <td>13.411167</td>\n",
       "      <td>3.504542</td>\n",
       "    </tr>\n",
       "    <tr>\n",
       "      <th>1</th>\n",
       "      <td>id002F541E-911C-4790-A40A-A0E2928947F3</td>\n",
       "      <td>id432C170D-E65B-48DF-AF5E-16FF3764697D</td>\n",
       "      <td>247</td>\n",
       "      <td>Minor Road</td>\n",
       "      <td>Single Carriageway</td>\n",
       "      <td>2257</td>\n",
       "      <td>807013</td>\n",
       "      <td>30</td>\n",
       "      <td>13.411167</td>\n",
       "      <td>18.417488</td>\n",
       "    </tr>\n",
       "    <tr>\n",
       "      <th>2</th>\n",
       "      <td>id002F55C3-C66D-483E-83C2-38A9A0292281</td>\n",
       "      <td>id514D101B-DDE8-4448-A30C-91A6BC477C63</td>\n",
       "      <td>125</td>\n",
       "      <td>Local Road</td>\n",
       "      <td>Single Carriageway</td>\n",
       "      <td>2258</td>\n",
       "      <td>977111</td>\n",
       "      <td>30</td>\n",
       "      <td>13.411167</td>\n",
       "      <td>9.320591</td>\n",
       "    </tr>\n",
       "    <tr>\n",
       "      <th>3</th>\n",
       "      <td>id002F55C3-C66D-483E-83C2-38A9A0292281</td>\n",
       "      <td>idF80E27D9-D6A7-4492-A447-4CE2ACD59DAD</td>\n",
       "      <td>33</td>\n",
       "      <td>Local Road</td>\n",
       "      <td>Single Carriageway</td>\n",
       "      <td>2258</td>\n",
       "      <td>2982287</td>\n",
       "      <td>30</td>\n",
       "      <td>13.411167</td>\n",
       "      <td>2.460636</td>\n",
       "    </tr>\n",
       "    <tr>\n",
       "      <th>4</th>\n",
       "      <td>id002F594C-D9D0-490F-A9DD-E432F862F84E</td>\n",
       "      <td>id77861574-440D-494C-8C3C-4E63B353C641</td>\n",
       "      <td>21</td>\n",
       "      <td>Local Road</td>\n",
       "      <td>Single Carriageway</td>\n",
       "      <td>2259</td>\n",
       "      <td>1437088</td>\n",
       "      <td>30</td>\n",
       "      <td>13.411167</td>\n",
       "      <td>1.565859</td>\n",
       "    </tr>\n",
       "  </tbody>\n",
       "</table>\n",
       "</div>"
      ],
      "text/plain": [
       "                                   src_id  \\\n",
       "0  id002F39E2-6647-4BEF-BB9E-D96456E54696   \n",
       "1  id002F541E-911C-4790-A40A-A0E2928947F3   \n",
       "2  id002F55C3-C66D-483E-83C2-38A9A0292281   \n",
       "3  id002F55C3-C66D-483E-83C2-38A9A0292281   \n",
       "4  id002F594C-D9D0-490F-A9DD-E432F862F84E   \n",
       "\n",
       "                                   dst_id  length        type  \\\n",
       "0  idC04BE207-03A6-40E6-8C05-0E645B4AA50B      47  Local Road   \n",
       "1  id432C170D-E65B-48DF-AF5E-16FF3764697D     247  Minor Road   \n",
       "2  id514D101B-DDE8-4448-A30C-91A6BC477C63     125  Local Road   \n",
       "3  idF80E27D9-D6A7-4492-A447-4CE2ACD59DAD      33  Local Road   \n",
       "4  id77861574-440D-494C-8C3C-4E63B353C641      21  Local Road   \n",
       "\n",
       "                 form  graph_src  graph_dst  limit_mph  limit_m/s   length_s  \n",
       "0  Single Carriageway       2254    2311469         30  13.411167   3.504542  \n",
       "1  Single Carriageway       2257     807013         30  13.411167  18.417488  \n",
       "2  Single Carriageway       2258     977111         30  13.411167   9.320591  \n",
       "3  Single Carriageway       2258    2982287         30  13.411167   2.460636  \n",
       "4  Single Carriageway       2259    1437088         30  13.411167   1.565859  "
      ]
     },
     "execution_count": 61,
     "metadata": {},
     "output_type": "execute_result"
    }
   ],
   "source": [
    "road_edges['length_s'] = road_edges['length'] / road_edges['limit_m/s']\n",
    "road_edges.head()"
   ]
  },
  {
   "cell_type": "markdown",
   "metadata": {},
   "source": [
    "#### Solution"
   ]
  },
  {
   "cell_type": "code",
   "execution_count": 62,
   "metadata": {},
   "outputs": [],
   "source": [
    "# %load solutions/length_in_seconds\n",
    "road_edges['length_s'] = road_edges['length'] / road_edges['limit_m/s']\n",
    "road_edges['length_s'].head()\n"
   ]
  },
  {
   "cell_type": "markdown",
   "metadata": {},
   "source": [
    "### Step 3: Construct a Prep Dataframe"
   ]
  },
  {
   "cell_type": "markdown",
   "metadata": {},
   "source": [
    "Make a new dataframe called `exercise_graph`, add to it three columns: `src`, `dst`, and `length_s`, all which you can obtain from `road_edges`."
   ]
  },
  {
   "cell_type": "code",
   "execution_count": 67,
   "metadata": {},
   "outputs": [],
   "source": [
    "exercise_graph = cudf.DataFrame()\n",
    "exercise_graph['src'] = road_edges['graph_src']\n",
    "exercise_graph['dst'] = road_edges['graph_dst']\n",
    "exercise_graph['length_s'] = road_edges['length_s']"
   ]
  },
  {
   "cell_type": "markdown",
   "metadata": {},
   "source": [
    "#### Solution"
   ]
  },
  {
   "cell_type": "code",
   "execution_count": 64,
   "metadata": {},
   "outputs": [],
   "source": [
    "# %load solutions/prep_dataframe\n",
    "exercise_graph = cudf.DataFrame()\n",
    "\n",
    "exercise_graph['src'] = road_edges['graph_src']\n",
    "exercise_graph['dst'] = road_edges['graph_dst']\n",
    "exercise_graph['length_s'] = road_edges['length_s']\n",
    "\n",
    "print(exercise_graph.shape)\n",
    "exercise_graph.dtypes\n"
   ]
  },
  {
   "cell_type": "markdown",
   "metadata": {},
   "source": [
    "### Step 4: Make the Edges Undirected"
   ]
  },
  {
   "cell_type": "markdown",
   "metadata": {},
   "source": [
    "Make `exercise_graph` undirected by creating a dataframe where `src` and `dst` are reversed, and then concatenating it with `exercise_graph`. Be sure to drop any rows that duplicate other rows' `src` and `dst` values."
   ]
  },
  {
   "cell_type": "code",
   "execution_count": 71,
   "metadata": {},
   "outputs": [
    {
     "data": {
      "text/html": [
       "<div>\n",
       "<style scoped>\n",
       "    .dataframe tbody tr th:only-of-type {\n",
       "        vertical-align: middle;\n",
       "    }\n",
       "\n",
       "    .dataframe tbody tr th {\n",
       "        vertical-align: top;\n",
       "    }\n",
       "\n",
       "    .dataframe thead th {\n",
       "        text-align: right;\n",
       "    }\n",
       "</style>\n",
       "<table border=\"1\" class=\"dataframe\">\n",
       "  <thead>\n",
       "    <tr style=\"text-align: right;\">\n",
       "      <th></th>\n",
       "      <th>src</th>\n",
       "      <th>dst</th>\n",
       "      <th>length_s</th>\n",
       "    </tr>\n",
       "  </thead>\n",
       "  <tbody>\n",
       "    <tr>\n",
       "      <th>5952</th>\n",
       "      <td>0</td>\n",
       "      <td>129165</td>\n",
       "      <td>3.280848</td>\n",
       "    </tr>\n",
       "    <tr>\n",
       "      <th>5953</th>\n",
       "      <td>1</td>\n",
       "      <td>1678323</td>\n",
       "      <td>5.219531</td>\n",
       "    </tr>\n",
       "    <tr>\n",
       "      <th>6490552</th>\n",
       "      <td>1</td>\n",
       "      <td>2372610</td>\n",
       "      <td>1.342165</td>\n",
       "    </tr>\n",
       "    <tr>\n",
       "      <th>5954</th>\n",
       "      <td>1</td>\n",
       "      <td>2483057</td>\n",
       "      <td>2.982589</td>\n",
       "    </tr>\n",
       "    <tr>\n",
       "      <th>5955</th>\n",
       "      <td>2</td>\n",
       "      <td>2</td>\n",
       "      <td>4.101060</td>\n",
       "    </tr>\n",
       "    <tr>\n",
       "      <th>...</th>\n",
       "      <td>...</td>\n",
       "      <td>...</td>\n",
       "      <td>...</td>\n",
       "    </tr>\n",
       "    <tr>\n",
       "      <th>3663581</th>\n",
       "      <td>3078114</td>\n",
       "      <td>3057280</td>\n",
       "      <td>50.107497</td>\n",
       "    </tr>\n",
       "    <tr>\n",
       "      <th>6917713</th>\n",
       "      <td>3078115</td>\n",
       "      <td>2721612</td>\n",
       "      <td>7.009084</td>\n",
       "    </tr>\n",
       "    <tr>\n",
       "      <th>5720304</th>\n",
       "      <td>3078116</td>\n",
       "      <td>1721226</td>\n",
       "      <td>5.666919</td>\n",
       "    </tr>\n",
       "    <tr>\n",
       "      <th>3663582</th>\n",
       "      <td>3078116</td>\n",
       "      <td>2979684</td>\n",
       "      <td>10.289933</td>\n",
       "    </tr>\n",
       "    <tr>\n",
       "      <th>3663583</th>\n",
       "      <td>3078116</td>\n",
       "      <td>2990551</td>\n",
       "      <td>11.184709</td>\n",
       "    </tr>\n",
       "  </tbody>\n",
       "</table>\n",
       "<p>7218169 rows × 3 columns</p>\n",
       "</div>"
      ],
      "text/plain": [
       "             src      dst   length_s\n",
       "5952           0   129165   3.280848\n",
       "5953           1  1678323   5.219531\n",
       "6490552        1  2372610   1.342165\n",
       "5954           1  2483057   2.982589\n",
       "5955           2        2   4.101060\n",
       "...          ...      ...        ...\n",
       "3663581  3078114  3057280  50.107497\n",
       "6917713  3078115  2721612   7.009084\n",
       "5720304  3078116  1721226   5.666919\n",
       "3663582  3078116  2979684  10.289933\n",
       "3663583  3078116  2990551  11.184709\n",
       "\n",
       "[7218169 rows x 3 columns]"
      ]
     },
     "execution_count": 71,
     "metadata": {},
     "output_type": "execute_result"
    }
   ],
   "source": [
    "rev_exercise_graph = cudf.DataFrame()\n",
    "\n",
    "rev_exercise_graph['src'] = exercise_graph['dst']\n",
    "rev_exercise_graph['dst'] = exercise_graph['src']\n",
    "rev_exercise_graph['length_s'] = exercise_graph['length_s']\n",
    "\n",
    "exercise_graph = cudf.concat([exercise_graph, rev_exercise_graph], \n",
    "                          ignore_index=True)\n",
    "exercise_graph.drop_duplicates(subset=['src', 'dst'])\n"
   ]
  },
  {
   "cell_type": "markdown",
   "metadata": {},
   "source": [
    "#### Solution"
   ]
  },
  {
   "cell_type": "code",
   "execution_count": 73,
   "metadata": {},
   "outputs": [
    {
     "name": "stdout",
     "output_type": "stream",
     "text": [
      "(29337600, 3)\n",
      "(7218169, 3)\n",
      "False\n",
      "True\n",
      "src    True\n",
      "dst    True\n",
      "dtype: bool\n"
     ]
    }
   ],
   "source": [
    "# %load solutions/make_undirected\n",
    "rev_gdf = cudf.DataFrame()\n",
    "\n",
    "rev_gdf['src'] = exercise_graph['dst']\n",
    "rev_gdf['dst'] = exercise_graph['src']\n",
    "rev_gdf['length_s'] = exercise_graph['length_s']\n",
    "\n",
    "exercise_graph = cudf.concat([exercise_graph, rev_gdf], \n",
    "                              ignore_index=True)\n",
    "\n",
    "print(exercise_graph.shape)\n",
    "\n",
    "exercise_graph.drop_duplicates(subset=['src', 'dst'], inplace=True)\n",
    "print(exercise_graph.shape)\n",
    "\n",
    "# The maximum graph_id is the number of nodes - 1\n",
    "print(exercise_graph[['src', 'dst']].max().max() == road_nodes['node_id'].unique().shape[0] - 1)\n",
    "\n",
    "# The minimum graph_id is 0 \n",
    "print(exercise_graph[['src', 'dst']].min().min() == 0)\n",
    "\n",
    "# The ID dtypes are int32s\n",
    "print(exercise_graph[['src', 'dst']].dtypes == 'int32')\n"
   ]
  },
  {
   "cell_type": "markdown",
   "metadata": {},
   "source": [
    "### Step 5: Construct the Graph"
   ]
  },
  {
   "cell_type": "markdown",
   "metadata": {},
   "source": [
    "Construct a cuGraph Graph called `G_ex` using the sources and destinations found in `exercise_graph`, along with length in seconds values for the edges' weights."
   ]
  },
  {
   "cell_type": "code",
   "execution_count": 72,
   "metadata": {},
   "outputs": [
    {
     "name": "stdout",
     "output_type": "stream",
     "text": [
      "CPU times: user 84 ms, sys: 48 ms, total: 132 ms\n",
      "Wall time: 134 ms\n"
     ]
    }
   ],
   "source": [
    "G_ex = cg.Graph()\n",
    "%time G_ex.from_cudf_edgelist(exercise_graph, source='src', destination='dst', edge_attr='length_s')"
   ]
  },
  {
   "cell_type": "markdown",
   "metadata": {},
   "source": [
    "#### Solution"
   ]
  },
  {
   "cell_type": "code",
   "execution_count": 74,
   "metadata": {},
   "outputs": [],
   "source": [
    "# %load solutions/construct_graph\n",
    "G_ex = cg.Graph()\n",
    "G_ex.add_edge_list(exercise_graph['src'], exercise_graph['dst'], exercise_graph['length_s'])\n"
   ]
  },
  {
   "cell_type": "markdown",
   "metadata": {},
   "source": [
    "<br>\n",
    "<div align=\"center\"><h2>Please Restart the Kernel</h2></div>"
   ]
  },
  {
   "cell_type": "code",
   "execution_count": null,
   "metadata": {},
   "outputs": [],
   "source": [
    "import IPython\n",
    "app = IPython.Application.instance()\n",
    "app.kernel.do_shutdown(True)"
   ]
  },
  {
   "cell_type": "markdown",
   "metadata": {},
   "source": [
    "## Next"
   ]
  },
  {
   "cell_type": "markdown",
   "metadata": {},
   "source": [
    "In the next notebook you will work with a dataset representing a population 5 times larger than the UK, a dataset that would not fit in the memory of a single GPU. In order to work with this data you will use Dask cuDF to partition the data among the 4 GPUs at your disposal, and perform the same kinds of data manipulations you have been doing with vanilla cuDF on smaller, single-GPU datasets."
   ]
  }
 ],
 "metadata": {
  "kernelspec": {
   "display_name": "Python 3",
   "language": "python",
   "name": "python3"
  },
  "language_info": {
   "codemirror_mode": {
    "name": "ipython",
    "version": 3
   },
   "file_extension": ".py",
   "mimetype": "text/x-python",
   "name": "python",
   "nbconvert_exporter": "python",
   "pygments_lexer": "ipython3",
   "version": "3.6.7"
  }
 },
 "nbformat": 4,
 "nbformat_minor": 4
}
