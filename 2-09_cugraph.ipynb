{
 "cells": [
  {
   "cell_type": "markdown",
   "metadata": {},
   "source": [
    "# cuGraph Single Source Shortest Path"
   ]
  },
  {
   "cell_type": "markdown",
   "metadata": {},
   "source": [
    "In this notebook, you will use GPU-accelerated graph analytics with cuGraph to identify the shortest path from node on the road network to every other node, both by distance, which we will demo, and by time, which you will implement. You will also visualize the results of your findings."
   ]
  },
  {
   "cell_type": "markdown",
   "metadata": {},
   "source": [
    "## Objectives"
   ]
  },
  {
   "cell_type": "markdown",
   "metadata": {},
   "source": [
    "By the time you complete this notebook you will be able to:\n",
    "\n",
    "- Use GPU-accelerated SSSP algorithm\n",
    "- Use cuXfilter to create a heatmap of average travel times"
   ]
  },
  {
   "cell_type": "markdown",
   "metadata": {},
   "source": [
    "## Imports"
   ]
  },
  {
   "cell_type": "code",
   "execution_count": 1,
   "metadata": {},
   "outputs": [],
   "source": [
    "import cudf\n",
    "import cugraph as cg\n",
    "\n",
    "import cuxfilter as cxf\n",
    "from bokeh.palettes import Magma, Turbo256, Plasma256, Viridis256"
   ]
  },
  {
   "cell_type": "markdown",
   "metadata": {},
   "source": [
    "## Loading Data"
   ]
  },
  {
   "cell_type": "markdown",
   "metadata": {},
   "source": [
    "We start by loading the road graph data you prepared for constructing a graph with cuGraph, with the long unique `nodeid` replaced with simple (and memory-efficient) integers we call the `graph_id`."
   ]
  },
  {
   "cell_type": "code",
   "execution_count": 3,
   "metadata": {},
   "outputs": [
    {
     "data": {
      "text/html": [
       "<div>\n",
       "<style scoped>\n",
       "    .dataframe tbody tr th:only-of-type {\n",
       "        vertical-align: middle;\n",
       "    }\n",
       "\n",
       "    .dataframe tbody tr th {\n",
       "        vertical-align: top;\n",
       "    }\n",
       "\n",
       "    .dataframe thead th {\n",
       "        text-align: right;\n",
       "    }\n",
       "</style>\n",
       "<table border=\"1\" class=\"dataframe\">\n",
       "  <thead>\n",
       "    <tr style=\"text-align: right;\">\n",
       "      <th></th>\n",
       "      <th>src</th>\n",
       "      <th>dst</th>\n",
       "      <th>length</th>\n",
       "    </tr>\n",
       "  </thead>\n",
       "  <tbody>\n",
       "    <tr>\n",
       "      <th>0</th>\n",
       "      <td>0</td>\n",
       "      <td>129165</td>\n",
       "      <td>44.0</td>\n",
       "    </tr>\n",
       "    <tr>\n",
       "      <th>1</th>\n",
       "      <td>1</td>\n",
       "      <td>1678323</td>\n",
       "      <td>70.0</td>\n",
       "    </tr>\n",
       "    <tr>\n",
       "      <th>2</th>\n",
       "      <td>1</td>\n",
       "      <td>2372610</td>\n",
       "      <td>18.0</td>\n",
       "    </tr>\n",
       "    <tr>\n",
       "      <th>3</th>\n",
       "      <td>1</td>\n",
       "      <td>2483057</td>\n",
       "      <td>40.0</td>\n",
       "    </tr>\n",
       "    <tr>\n",
       "      <th>4</th>\n",
       "      <td>2</td>\n",
       "      <td>2</td>\n",
       "      <td>55.0</td>\n",
       "    </tr>\n",
       "  </tbody>\n",
       "</table>\n",
       "</div>"
      ],
      "text/plain": [
       "   src      dst  length\n",
       "0    0   129165    44.0\n",
       "1    1  1678323    70.0\n",
       "2    1  2372610    18.0\n",
       "3    1  2483057    40.0\n",
       "4    2        2    55.0"
      ]
     },
     "execution_count": 3,
     "metadata": {},
     "output_type": "execute_result"
    }
   ],
   "source": [
    "road_graph = cudf.read_csv('./data/road_graph_2-09.csv', dtype=['int32', 'int32', 'float32'])\n",
    "road_graph.head()"
   ]
  },
  {
   "cell_type": "markdown",
   "metadata": {},
   "source": [
    "Next we load the graph-ready data you prepared that uses amount of time traveled as edge weight."
   ]
  },
  {
   "cell_type": "code",
   "execution_count": 4,
   "metadata": {},
   "outputs": [
    {
     "data": {
      "text/html": [
       "<div>\n",
       "<style scoped>\n",
       "    .dataframe tbody tr th:only-of-type {\n",
       "        vertical-align: middle;\n",
       "    }\n",
       "\n",
       "    .dataframe tbody tr th {\n",
       "        vertical-align: top;\n",
       "    }\n",
       "\n",
       "    .dataframe thead th {\n",
       "        text-align: right;\n",
       "    }\n",
       "</style>\n",
       "<table border=\"1\" class=\"dataframe\">\n",
       "  <thead>\n",
       "    <tr style=\"text-align: right;\">\n",
       "      <th></th>\n",
       "      <th>src</th>\n",
       "      <th>dst</th>\n",
       "      <th>length_s</th>\n",
       "    </tr>\n",
       "  </thead>\n",
       "  <tbody>\n",
       "    <tr>\n",
       "      <th>0</th>\n",
       "      <td>0</td>\n",
       "      <td>129165</td>\n",
       "      <td>3.280848</td>\n",
       "    </tr>\n",
       "    <tr>\n",
       "      <th>1</th>\n",
       "      <td>1</td>\n",
       "      <td>1678323</td>\n",
       "      <td>5.219531</td>\n",
       "    </tr>\n",
       "    <tr>\n",
       "      <th>2</th>\n",
       "      <td>1</td>\n",
       "      <td>2372610</td>\n",
       "      <td>1.342165</td>\n",
       "    </tr>\n",
       "    <tr>\n",
       "      <th>3</th>\n",
       "      <td>1</td>\n",
       "      <td>2483057</td>\n",
       "      <td>2.982589</td>\n",
       "    </tr>\n",
       "    <tr>\n",
       "      <th>4</th>\n",
       "      <td>2</td>\n",
       "      <td>2</td>\n",
       "      <td>4.101060</td>\n",
       "    </tr>\n",
       "  </tbody>\n",
       "</table>\n",
       "</div>"
      ],
      "text/plain": [
       "   src      dst  length_s\n",
       "0    0   129165  3.280848\n",
       "1    1  1678323  5.219531\n",
       "2    1  2372610  1.342165\n",
       "3    1  2483057  2.982589\n",
       "4    2        2  4.101060"
      ]
     },
     "execution_count": 4,
     "metadata": {},
     "output_type": "execute_result"
    }
   ],
   "source": [
    "speed_graph = cudf.read_csv('./data/road_graph_speed_2-09.csv', dtype=['int32', 'int32', 'float32'])\n",
    "speed_graph.head()"
   ]
  },
  {
   "cell_type": "markdown",
   "metadata": {},
   "source": [
    "Finally we import the full `road_nodes` dataset, which we will use below for visualizations."
   ]
  },
  {
   "cell_type": "code",
   "execution_count": 5,
   "metadata": {},
   "outputs": [
    {
     "data": {
      "text/html": [
       "<div>\n",
       "<style scoped>\n",
       "    .dataframe tbody tr th:only-of-type {\n",
       "        vertical-align: middle;\n",
       "    }\n",
       "\n",
       "    .dataframe tbody tr th {\n",
       "        vertical-align: top;\n",
       "    }\n",
       "\n",
       "    .dataframe thead th {\n",
       "        text-align: right;\n",
       "    }\n",
       "</style>\n",
       "<table border=\"1\" class=\"dataframe\">\n",
       "  <thead>\n",
       "    <tr style=\"text-align: right;\">\n",
       "      <th></th>\n",
       "      <th>node_id</th>\n",
       "      <th>east</th>\n",
       "      <th>north</th>\n",
       "      <th>type</th>\n",
       "    </tr>\n",
       "  </thead>\n",
       "  <tbody>\n",
       "    <tr>\n",
       "      <th>2589119</th>\n",
       "      <td>id000000F5-5180-4C03-B05D-B01352C54F89</td>\n",
       "      <td>432920.250</td>\n",
       "      <td>572547.375000</td>\n",
       "      <td>road end</td>\n",
       "    </tr>\n",
       "    <tr>\n",
       "      <th>1954117</th>\n",
       "      <td>id000003F8-9E09-4829-AD87-6DA4438D22D8</td>\n",
       "      <td>526616.375</td>\n",
       "      <td>189678.390625</td>\n",
       "      <td>junction</td>\n",
       "    </tr>\n",
       "    <tr>\n",
       "      <th>873541</th>\n",
       "      <td>id000010DA-C89A-4198-847A-6E62815E038A</td>\n",
       "      <td>336879.000</td>\n",
       "      <td>731824.000000</td>\n",
       "      <td>junction</td>\n",
       "    </tr>\n",
       "    <tr>\n",
       "      <th>1346912</th>\n",
       "      <td>id000017A0-1843-4BC7-BCF7-C943B6780839</td>\n",
       "      <td>380635.000</td>\n",
       "      <td>390153.000000</td>\n",
       "      <td>junction</td>\n",
       "    </tr>\n",
       "    <tr>\n",
       "      <th>1553458</th>\n",
       "      <td>id00001B2A-155F-4CD3-8E06-7677ADC6AF74</td>\n",
       "      <td>337481.000</td>\n",
       "      <td>350509.687500</td>\n",
       "      <td>junction</td>\n",
       "    </tr>\n",
       "  </tbody>\n",
       "</table>\n",
       "</div>"
      ],
      "text/plain": [
       "                                        node_id        east          north  \\\n",
       "2589119  id000000F5-5180-4C03-B05D-B01352C54F89  432920.250  572547.375000   \n",
       "1954117  id000003F8-9E09-4829-AD87-6DA4438D22D8  526616.375  189678.390625   \n",
       "873541   id000010DA-C89A-4198-847A-6E62815E038A  336879.000  731824.000000   \n",
       "1346912  id000017A0-1843-4BC7-BCF7-C943B6780839  380635.000  390153.000000   \n",
       "1553458  id00001B2A-155F-4CD3-8E06-7677ADC6AF74  337481.000  350509.687500   \n",
       "\n",
       "             type  \n",
       "2589119  road end  \n",
       "1954117  junction  \n",
       "873541   junction  \n",
       "1346912  junction  \n",
       "1553458  junction  "
      ]
     },
     "execution_count": 5,
     "metadata": {},
     "output_type": "execute_result"
    }
   ],
   "source": [
    "road_nodes = cudf.read_csv('./data/road_nodes_2-09.csv', dtype=['str', 'float32', 'float32', 'str'])\n",
    "road_nodes = road_nodes.drop_duplicates() # again, some road nodes appeared on multiple map tiles in the original source\n",
    "road_nodes.head()"
   ]
  },
  {
   "cell_type": "code",
   "execution_count": 6,
   "metadata": {},
   "outputs": [
    {
     "data": {
      "text/plain": [
       "(3078117, 4)"
      ]
     },
     "execution_count": 6,
     "metadata": {},
     "output_type": "execute_result"
    }
   ],
   "source": [
    "road_nodes.shape"
   ]
  },
  {
   "cell_type": "code",
   "execution_count": 7,
   "metadata": {},
   "outputs": [
    {
     "data": {
      "text/plain": [
       "3078116"
      ]
     },
     "execution_count": 7,
     "metadata": {},
     "output_type": "execute_result"
    }
   ],
   "source": [
    "speed_graph.src.max()"
   ]
  },
  {
   "cell_type": "markdown",
   "metadata": {},
   "source": [
    "## Construct Graph with cuGraph"
   ]
  },
  {
   "cell_type": "markdown",
   "metadata": {},
   "source": [
    "Now that we have the well-prepped `road_graph` data, we pass it to cuGraph to create our graph datastructure, which we can then use for accelerated analysis. In order to do so, we first use cuGraph to instantiate a `Graph` instance, and then pass the instance edge sources, edge destinations, and edge weights, currently the length of the roads."
   ]
  },
  {
   "cell_type": "code",
   "execution_count": 8,
   "metadata": {},
   "outputs": [
    {
     "name": "stdout",
     "output_type": "stream",
     "text": [
      "CPU times: user 120 ms, sys: 88 ms, total: 208 ms\n",
      "Wall time: 209 ms\n"
     ]
    }
   ],
   "source": [
    "G = cg.Graph()\n",
    "%time G.from_cudf_edgelist(road_graph, source='src', destination='dst', edge_attr='length')"
   ]
  },
  {
   "cell_type": "markdown",
   "metadata": {},
   "source": [
    "## Analyzing the Graph"
   ]
  },
  {
   "cell_type": "markdown",
   "metadata": {},
   "source": [
    "First, we check the number of nodes and edges in our graph:"
   ]
  },
  {
   "cell_type": "code",
   "execution_count": 9,
   "metadata": {},
   "outputs": [
    {
     "data": {
      "text/plain": [
       "3078117"
      ]
     },
     "execution_count": 9,
     "metadata": {},
     "output_type": "execute_result"
    }
   ],
   "source": [
    "G.number_of_nodes()"
   ]
  },
  {
   "cell_type": "code",
   "execution_count": 10,
   "metadata": {},
   "outputs": [
    {
     "data": {
      "text/plain": [
       "3620793"
      ]
     },
     "execution_count": 10,
     "metadata": {},
     "output_type": "execute_result"
    }
   ],
   "source": [
    "G.number_of_edges()"
   ]
  },
  {
   "cell_type": "markdown",
   "metadata": {},
   "source": [
    "We can also analyze the degrees of our graph nodes. We would expect, as before, that every node would have a degree of 2 or higher, since undirected edges count as two edges (one in, one out) for each of their nodes."
   ]
  },
  {
   "cell_type": "code",
   "execution_count": 11,
   "metadata": {},
   "outputs": [
    {
     "data": {
      "text/plain": [
       "mean     4.689990\n",
       "std      1.913452\n",
       "min      2.000000\n",
       "25%      2.000000\n",
       "50%      6.000000\n",
       "75%      6.000000\n",
       "max     16.000000\n",
       "Name: degree, dtype: float64"
      ]
     },
     "execution_count": 11,
     "metadata": {},
     "output_type": "execute_result"
    }
   ],
   "source": [
    "deg_df = G.degree()\n",
    "deg_df['degree'].describe()[1:]"
   ]
  },
  {
   "cell_type": "markdown",
   "metadata": {},
   "source": [
    "We would also expect that every degree would be a multiple of 2, for the same reason. We check that there are no nodes with odd degrees (that is, degrees with a value of 1 modulo 2):"
   ]
  },
  {
   "cell_type": "code",
   "execution_count": 12,
   "metadata": {},
   "outputs": [
    {
     "data": {
      "text/html": [
       "<div>\n",
       "<style scoped>\n",
       "    .dataframe tbody tr th:only-of-type {\n",
       "        vertical-align: middle;\n",
       "    }\n",
       "\n",
       "    .dataframe tbody tr th {\n",
       "        vertical-align: top;\n",
       "    }\n",
       "\n",
       "    .dataframe thead th {\n",
       "        text-align: right;\n",
       "    }\n",
       "</style>\n",
       "<table border=\"1\" class=\"dataframe\">\n",
       "  <thead>\n",
       "    <tr style=\"text-align: right;\">\n",
       "      <th></th>\n",
       "      <th>degree</th>\n",
       "      <th>vertex</th>\n",
       "    </tr>\n",
       "  </thead>\n",
       "  <tbody>\n",
       "  </tbody>\n",
       "</table>\n",
       "</div>"
      ],
      "text/plain": [
       "Empty DataFrame\n",
       "Columns: [degree, vertex]\n",
       "Index: []"
      ]
     },
     "execution_count": 12,
     "metadata": {},
     "output_type": "execute_result"
    }
   ],
   "source": [
    "deg_df[deg_df['degree'].mod(2) == 1]"
   ]
  },
  {
   "cell_type": "markdown",
   "metadata": {},
   "source": [
    "Observe for reference that some roads loop from a node back to itself:"
   ]
  },
  {
   "cell_type": "code",
   "execution_count": 13,
   "metadata": {},
   "outputs": [
    {
     "data": {
      "text/html": [
       "<div>\n",
       "<style scoped>\n",
       "    .dataframe tbody tr th:only-of-type {\n",
       "        vertical-align: middle;\n",
       "    }\n",
       "\n",
       "    .dataframe tbody tr th {\n",
       "        vertical-align: top;\n",
       "    }\n",
       "\n",
       "    .dataframe thead th {\n",
       "        text-align: right;\n",
       "    }\n",
       "</style>\n",
       "<table border=\"1\" class=\"dataframe\">\n",
       "  <thead>\n",
       "    <tr style=\"text-align: right;\">\n",
       "      <th></th>\n",
       "      <th>src</th>\n",
       "      <th>dst</th>\n",
       "      <th>length</th>\n",
       "    </tr>\n",
       "  </thead>\n",
       "  <tbody>\n",
       "    <tr>\n",
       "      <th>4</th>\n",
       "      <td>2</td>\n",
       "      <td>2</td>\n",
       "      <td>55.0</td>\n",
       "    </tr>\n",
       "    <tr>\n",
       "      <th>145</th>\n",
       "      <td>62</td>\n",
       "      <td>62</td>\n",
       "      <td>108.0</td>\n",
       "    </tr>\n",
       "    <tr>\n",
       "      <th>293</th>\n",
       "      <td>124</td>\n",
       "      <td>124</td>\n",
       "      <td>67.0</td>\n",
       "    </tr>\n",
       "    <tr>\n",
       "      <th>471</th>\n",
       "      <td>196</td>\n",
       "      <td>196</td>\n",
       "      <td>26.0</td>\n",
       "    </tr>\n",
       "    <tr>\n",
       "      <th>571</th>\n",
       "      <td>240</td>\n",
       "      <td>240</td>\n",
       "      <td>44.0</td>\n",
       "    </tr>\n",
       "    <tr>\n",
       "      <th>...</th>\n",
       "      <td>...</td>\n",
       "      <td>...</td>\n",
       "      <td>...</td>\n",
       "    </tr>\n",
       "    <tr>\n",
       "      <th>7216602</th>\n",
       "      <td>3077469</td>\n",
       "      <td>3077469</td>\n",
       "      <td>78.0</td>\n",
       "    </tr>\n",
       "    <tr>\n",
       "      <th>7216735</th>\n",
       "      <td>3077519</td>\n",
       "      <td>3077519</td>\n",
       "      <td>111.0</td>\n",
       "    </tr>\n",
       "    <tr>\n",
       "      <th>7216849</th>\n",
       "      <td>3077567</td>\n",
       "      <td>3077567</td>\n",
       "      <td>69.0</td>\n",
       "    </tr>\n",
       "    <tr>\n",
       "      <th>7217091</th>\n",
       "      <td>3077670</td>\n",
       "      <td>3077670</td>\n",
       "      <td>30.0</td>\n",
       "    </tr>\n",
       "    <tr>\n",
       "      <th>7217294</th>\n",
       "      <td>3077756</td>\n",
       "      <td>3077756</td>\n",
       "      <td>45.0</td>\n",
       "    </tr>\n",
       "  </tbody>\n",
       "</table>\n",
       "<p>23417 rows × 3 columns</p>\n",
       "</div>"
      ],
      "text/plain": [
       "             src      dst  length\n",
       "4              2        2    55.0\n",
       "145           62       62   108.0\n",
       "293          124      124    67.0\n",
       "471          196      196    26.0\n",
       "571          240      240    44.0\n",
       "...          ...      ...     ...\n",
       "7216602  3077469  3077469    78.0\n",
       "7216735  3077519  3077519   111.0\n",
       "7216849  3077567  3077567    69.0\n",
       "7217091  3077670  3077670    30.0\n",
       "7217294  3077756  3077756    45.0\n",
       "\n",
       "[23417 rows x 3 columns]"
      ]
     },
     "execution_count": 13,
     "metadata": {},
     "output_type": "execute_result"
    }
   ],
   "source": [
    "road_graph.loc[road_graph.src == road_graph.dst]"
   ]
  },
  {
   "cell_type": "markdown",
   "metadata": {},
   "source": [
    "## Single Source Shortest Path"
   ]
  },
  {
   "cell_type": "markdown",
   "metadata": {},
   "source": [
    "To demo the Single Source Shortest Path (SSSP) algorithm, we will start with the node with the highest degree. First we obtain its `graph_id`, reported by the `degree` method as `vertex`:"
   ]
  },
  {
   "cell_type": "code",
   "execution_count": 14,
   "metadata": {},
   "outputs": [
    {
     "data": {
      "text/plain": [
       "652907"
      ]
     },
     "execution_count": 14,
     "metadata": {},
     "output_type": "execute_result"
    }
   ],
   "source": [
    "demo_node = deg_df.nlargest(1, 'degree')\n",
    "demo_node_graph_id = demo_node['vertex'].iloc[0]\n",
    "demo_node_graph_id"
   ]
  },
  {
   "cell_type": "markdown",
   "metadata": {},
   "source": [
    "We can now call `cg.sssp`, passing it the entire graph `G`, and the `graph_id` for our selected vertex. Doing so will calculate the shortest path, using the road length weights we have provided, to *every* other node in the graph - millions of paths, in seconds:"
   ]
  },
  {
   "cell_type": "code",
   "execution_count": 15,
   "metadata": {},
   "outputs": [
    {
     "name": "stdout",
     "output_type": "stream",
     "text": [
      "CPU times: user 2.21 s, sys: 1.9 s, total: 4.11 s\n",
      "Wall time: 4.1 s\n"
     ]
    },
    {
     "data": {
      "text/html": [
       "<div>\n",
       "<style scoped>\n",
       "    .dataframe tbody tr th:only-of-type {\n",
       "        vertical-align: middle;\n",
       "    }\n",
       "\n",
       "    .dataframe tbody tr th {\n",
       "        vertical-align: top;\n",
       "    }\n",
       "\n",
       "    .dataframe thead th {\n",
       "        text-align: right;\n",
       "    }\n",
       "</style>\n",
       "<table border=\"1\" class=\"dataframe\">\n",
       "  <thead>\n",
       "    <tr style=\"text-align: right;\">\n",
       "      <th></th>\n",
       "      <th>distance</th>\n",
       "      <th>vertex</th>\n",
       "      <th>predecessor</th>\n",
       "    </tr>\n",
       "  </thead>\n",
       "  <tbody>\n",
       "    <tr>\n",
       "      <th>0</th>\n",
       "      <td>441163.0</td>\n",
       "      <td>67552</td>\n",
       "      <td>376195</td>\n",
       "    </tr>\n",
       "    <tr>\n",
       "      <th>1</th>\n",
       "      <td>119326.0</td>\n",
       "      <td>67553</td>\n",
       "      <td>2650457</td>\n",
       "    </tr>\n",
       "    <tr>\n",
       "      <th>2</th>\n",
       "      <td>258332.0</td>\n",
       "      <td>67554</td>\n",
       "      <td>529669</td>\n",
       "    </tr>\n",
       "    <tr>\n",
       "      <th>3</th>\n",
       "      <td>272891.0</td>\n",
       "      <td>67555</td>\n",
       "      <td>2123025</td>\n",
       "    </tr>\n",
       "    <tr>\n",
       "      <th>4</th>\n",
       "      <td>433889.0</td>\n",
       "      <td>67556</td>\n",
       "      <td>733646</td>\n",
       "    </tr>\n",
       "  </tbody>\n",
       "</table>\n",
       "</div>"
      ],
      "text/plain": [
       "   distance  vertex  predecessor\n",
       "0  441163.0   67552       376195\n",
       "1  119326.0   67553      2650457\n",
       "2  258332.0   67554       529669\n",
       "3  272891.0   67555      2123025\n",
       "4  433889.0   67556       733646"
      ]
     },
     "execution_count": 15,
     "metadata": {},
     "output_type": "execute_result"
    }
   ],
   "source": [
    "%time shortest_distances_from_demo_node = cg.sssp(G, demo_node_graph_id)\n",
    "shortest_distances_from_demo_node.head()"
   ]
  },
  {
   "cell_type": "code",
   "execution_count": 16,
   "metadata": {},
   "outputs": [
    {
     "data": {
      "text/plain": [
       "mean    209942.046612\n",
       "std     137073.103410\n",
       "min          0.000000\n",
       "25%     124952.000000\n",
       "50%     181649.000000\n",
       "75%     252309.000000\n",
       "max     868580.000000\n",
       "Name: distance, dtype: float64"
      ]
     },
     "execution_count": 16,
     "metadata": {},
     "output_type": "execute_result"
    }
   ],
   "source": [
    "# Limiting to those nodes that were connected (within ~4.3 billion meters because\n",
    "# cg.sssp uses the max int value for unreachable nodes, such as those on different islands)\n",
    "shortest_distances_from_demo_node['distance'].loc[shortest_distances_from_demo_node['distance'] < 2**32].describe()[1:]"
   ]
  },
  {
   "cell_type": "markdown",
   "metadata": {},
   "source": [
    "## Exercise: Analyze a Graph with Time Weights"
   ]
  },
  {
   "cell_type": "markdown",
   "metadata": {},
   "source": [
    "For this exercise, you are going to analyze the graph of GB's roads, but this time, instead of using raw distance for a road's weights, you will be using how long it will take to travel along the road."
   ]
  },
  {
   "cell_type": "markdown",
   "metadata": {},
   "source": [
    "### Step 1: Construct the Graph"
   ]
  },
  {
   "cell_type": "markdown",
   "metadata": {},
   "source": [
    "Construct a cuGraph graph called `G_ex` using the sources and destinations found in `speed_graph`, along with length in seconds values for the edges' weights."
   ]
  },
  {
   "cell_type": "code",
   "execution_count": 17,
   "metadata": {},
   "outputs": [
    {
     "name": "stdout",
     "output_type": "stream",
     "text": [
      "CPU times: user 112 ms, sys: 92 ms, total: 204 ms\n",
      "Wall time: 210 ms\n"
     ]
    }
   ],
   "source": [
    "G_ex = cg.Graph()\n",
    "%time G_ex.from_cudf_edgelist(speed_graph, source='src', destination='dst', edge_attr='length_s')"
   ]
  },
  {
   "cell_type": "markdown",
   "metadata": {},
   "source": [
    "#### Solution"
   ]
  },
  {
   "cell_type": "code",
   "execution_count": 18,
   "metadata": {},
   "outputs": [],
   "source": [
    "# %load solutions/construct_graph\n",
    "G_ex = cg.Graph()\n",
    "G_ex.from_cudf_edgelist(speed_graph, source='src', destination='dst', edge_attr='length_s')\n"
   ]
  },
  {
   "cell_type": "markdown",
   "metadata": {},
   "source": [
    "### Step 2: Get Travel Times From a Node to All Others"
   ]
  },
  {
   "cell_type": "markdown",
   "metadata": {},
   "source": [
    "Choose one of the nodes and calculate the time it would travel to take from it to all other nodes via SSSP, calling the results `ex_dist`."
   ]
  },
  {
   "cell_type": "code",
   "execution_count": 21,
   "metadata": {},
   "outputs": [
    {
     "data": {
      "text/plain": [
       "mean    12038.132681\n",
       "std      5029.636379\n",
       "min         0.000000\n",
       "25%      8064.038818\n",
       "50%     12319.248047\n",
       "75%     15841.520996\n",
       "max     26572.105469\n",
       "Name: distance, dtype: float64"
      ]
     },
     "execution_count": 21,
     "metadata": {},
     "output_type": "execute_result"
    }
   ],
   "source": [
    "ex_dist = cg.sssp(G_ex, 0)\n",
    "ex_dist['distance'].loc[ex_dist['distance'] < 2**32].describe()[1:]"
   ]
  },
  {
   "cell_type": "markdown",
   "metadata": {},
   "source": [
    "#### Solution"
   ]
  },
  {
   "cell_type": "code",
   "execution_count": 20,
   "metadata": {},
   "outputs": [],
   "source": [
    "# %load solutions/travel_times\n",
    "# If you have time, see what the SSSP visualization looks like starting from nodes at different extreme coordinates,\n",
    "# or one of the end nodes of an especially long edge, or even one of the nodes unreachable from the main road network.\n",
    "ex_deg = G_ex.degree()\n",
    "ex_node = ex_deg.nlargest(1, 'degree')\n",
    "\n",
    "%time ex_dist = cg.sssp(G_ex, ex_node['vertex'].iloc[0])\n",
    "\n",
    "# limiting to those nodes that were connected (within ~4.3 billion seconds; .sssp uses the max int value for unconnected nodes)\n",
    "ex_dist['distance'].loc[ex_dist['distance'] < 2**32].describe()[1:]\n"
   ]
  },
  {
   "cell_type": "markdown",
   "metadata": {},
   "source": [
    "### Step 3: Visualize the Node Travel Times"
   ]
  },
  {
   "cell_type": "markdown",
   "metadata": {},
   "source": [
    "In order to create a graphic showing the road network by travel time from the selected node, we first need to align the just-calculated distances with their original nodes. For that, we use the mapping from `node_id` strings to their `graph_id` integers."
   ]
  },
  {
   "cell_type": "code",
   "execution_count": 22,
   "metadata": {},
   "outputs": [
    {
     "data": {
      "text/html": [
       "<div>\n",
       "<style scoped>\n",
       "    .dataframe tbody tr th:only-of-type {\n",
       "        vertical-align: middle;\n",
       "    }\n",
       "\n",
       "    .dataframe tbody tr th {\n",
       "        vertical-align: top;\n",
       "    }\n",
       "\n",
       "    .dataframe thead th {\n",
       "        text-align: right;\n",
       "    }\n",
       "</style>\n",
       "<table border=\"1\" class=\"dataframe\">\n",
       "  <thead>\n",
       "    <tr style=\"text-align: right;\">\n",
       "      <th></th>\n",
       "      <th>node_id</th>\n",
       "      <th>graph_id</th>\n",
       "    </tr>\n",
       "  </thead>\n",
       "  <tbody>\n",
       "    <tr>\n",
       "      <th>0</th>\n",
       "      <td>id000000F5-5180-4C03-B05D-B01352C54F89</td>\n",
       "      <td>0</td>\n",
       "    </tr>\n",
       "    <tr>\n",
       "      <th>1</th>\n",
       "      <td>id000003F8-9E09-4829-AD87-6DA4438D22D8</td>\n",
       "      <td>1</td>\n",
       "    </tr>\n",
       "    <tr>\n",
       "      <th>2</th>\n",
       "      <td>id000010DA-C89A-4198-847A-6E62815E038A</td>\n",
       "      <td>2</td>\n",
       "    </tr>\n",
       "    <tr>\n",
       "      <th>3</th>\n",
       "      <td>id000017A0-1843-4BC7-BCF7-C943B6780839</td>\n",
       "      <td>3</td>\n",
       "    </tr>\n",
       "    <tr>\n",
       "      <th>4</th>\n",
       "      <td>id00001B2A-155F-4CD3-8E06-7677ADC6AF74</td>\n",
       "      <td>4</td>\n",
       "    </tr>\n",
       "  </tbody>\n",
       "</table>\n",
       "</div>"
      ],
      "text/plain": [
       "                                  node_id  graph_id\n",
       "0  id000000F5-5180-4C03-B05D-B01352C54F89         0\n",
       "1  id000003F8-9E09-4829-AD87-6DA4438D22D8         1\n",
       "2  id000010DA-C89A-4198-847A-6E62815E038A         2\n",
       "3  id000017A0-1843-4BC7-BCF7-C943B6780839         3\n",
       "4  id00001B2A-155F-4CD3-8E06-7677ADC6AF74         4"
      ]
     },
     "execution_count": 22,
     "metadata": {},
     "output_type": "execute_result"
    }
   ],
   "source": [
    "mapping = cudf.read_csv('./data/node_graph_map.csv')\n",
    "mapping.head()"
   ]
  },
  {
   "cell_type": "markdown",
   "metadata": {},
   "source": [
    "We see that the `sssp` algorithm has put the `graph_id`s in the `vertex` column, so we will merge on that."
   ]
  },
  {
   "cell_type": "code",
   "execution_count": 23,
   "metadata": {},
   "outputs": [
    {
     "data": {
      "text/html": [
       "<div>\n",
       "<style scoped>\n",
       "    .dataframe tbody tr th:only-of-type {\n",
       "        vertical-align: middle;\n",
       "    }\n",
       "\n",
       "    .dataframe tbody tr th {\n",
       "        vertical-align: top;\n",
       "    }\n",
       "\n",
       "    .dataframe thead th {\n",
       "        text-align: right;\n",
       "    }\n",
       "</style>\n",
       "<table border=\"1\" class=\"dataframe\">\n",
       "  <thead>\n",
       "    <tr style=\"text-align: right;\">\n",
       "      <th></th>\n",
       "      <th>distance</th>\n",
       "      <th>vertex</th>\n",
       "      <th>predecessor</th>\n",
       "    </tr>\n",
       "  </thead>\n",
       "  <tbody>\n",
       "    <tr>\n",
       "      <th>0</th>\n",
       "      <td>10449.427734</td>\n",
       "      <td>78912</td>\n",
       "      <td>288209</td>\n",
       "    </tr>\n",
       "    <tr>\n",
       "      <th>1</th>\n",
       "      <td>14686.548828</td>\n",
       "      <td>78913</td>\n",
       "      <td>3017223</td>\n",
       "    </tr>\n",
       "    <tr>\n",
       "      <th>2</th>\n",
       "      <td>16228.975586</td>\n",
       "      <td>78914</td>\n",
       "      <td>2678532</td>\n",
       "    </tr>\n",
       "    <tr>\n",
       "      <th>3</th>\n",
       "      <td>14788.810547</td>\n",
       "      <td>78915</td>\n",
       "      <td>2830870</td>\n",
       "    </tr>\n",
       "    <tr>\n",
       "      <th>4</th>\n",
       "      <td>15875.351562</td>\n",
       "      <td>78916</td>\n",
       "      <td>563879</td>\n",
       "    </tr>\n",
       "  </tbody>\n",
       "</table>\n",
       "</div>"
      ],
      "text/plain": [
       "       distance  vertex  predecessor\n",
       "0  10449.427734   78912       288209\n",
       "1  14686.548828   78913      3017223\n",
       "2  16228.975586   78914      2678532\n",
       "3  14788.810547   78915      2830870\n",
       "4  15875.351562   78916       563879"
      ]
     },
     "execution_count": 23,
     "metadata": {},
     "output_type": "execute_result"
    }
   ],
   "source": [
    "ex_dist.head()"
   ]
  },
  {
   "cell_type": "code",
   "execution_count": 24,
   "metadata": {},
   "outputs": [
    {
     "data": {
      "text/html": [
       "<div>\n",
       "<style scoped>\n",
       "    .dataframe tbody tr th:only-of-type {\n",
       "        vertical-align: middle;\n",
       "    }\n",
       "\n",
       "    .dataframe tbody tr th {\n",
       "        vertical-align: top;\n",
       "    }\n",
       "\n",
       "    .dataframe thead th {\n",
       "        text-align: right;\n",
       "    }\n",
       "</style>\n",
       "<table border=\"1\" class=\"dataframe\">\n",
       "  <thead>\n",
       "    <tr style=\"text-align: right;\">\n",
       "      <th></th>\n",
       "      <th>node_id</th>\n",
       "      <th>east</th>\n",
       "      <th>north</th>\n",
       "      <th>type</th>\n",
       "      <th>graph_id</th>\n",
       "      <th>distance</th>\n",
       "      <th>vertex</th>\n",
       "      <th>predecessor</th>\n",
       "    </tr>\n",
       "  </thead>\n",
       "  <tbody>\n",
       "    <tr>\n",
       "      <th>0</th>\n",
       "      <td>id06742610-77C3-43B9-B644-CC2C3F7F46EA</td>\n",
       "      <td>389742.78125</td>\n",
       "      <td>403045.1875</td>\n",
       "      <td>pseudo node</td>\n",
       "      <td>77824</td>\n",
       "      <td>7297.651855</td>\n",
       "      <td>77824</td>\n",
       "      <td>684363</td>\n",
       "    </tr>\n",
       "    <tr>\n",
       "      <th>1</th>\n",
       "      <td>id067432FB-C36D-429C-B894-D3928802F8A7</td>\n",
       "      <td>579357.00000</td>\n",
       "      <td>286683.0000</td>\n",
       "      <td>road end</td>\n",
       "      <td>77825</td>\n",
       "      <td>13623.601562</td>\n",
       "      <td>77825</td>\n",
       "      <td>2255097</td>\n",
       "    </tr>\n",
       "    <tr>\n",
       "      <th>2</th>\n",
       "      <td>id06743603-CF7F-4C33-873C-D119A305D17E</td>\n",
       "      <td>313073.00000</td>\n",
       "      <td>372924.0000</td>\n",
       "      <td>junction</td>\n",
       "      <td>77826</td>\n",
       "      <td>10614.585938</td>\n",
       "      <td>77826</td>\n",
       "      <td>1627948</td>\n",
       "    </tr>\n",
       "    <tr>\n",
       "      <th>3</th>\n",
       "      <td>id06743886-7856-4C05-9286-07E486699FE5</td>\n",
       "      <td>327761.00000</td>\n",
       "      <td>196548.0000</td>\n",
       "      <td>junction</td>\n",
       "      <td>77827</td>\n",
       "      <td>16313.569336</td>\n",
       "      <td>77827</td>\n",
       "      <td>155553</td>\n",
       "    </tr>\n",
       "    <tr>\n",
       "      <th>4</th>\n",
       "      <td>id06743F0B-CD32-48DB-B08C-61A52C79A46B</td>\n",
       "      <td>336175.87500</td>\n",
       "      <td>399931.3750</td>\n",
       "      <td>road end</td>\n",
       "      <td>77828</td>\n",
       "      <td>8897.522461</td>\n",
       "      <td>77828</td>\n",
       "      <td>2435706</td>\n",
       "    </tr>\n",
       "  </tbody>\n",
       "</table>\n",
       "</div>"
      ],
      "text/plain": [
       "                                  node_id          east        north  \\\n",
       "0  id06742610-77C3-43B9-B644-CC2C3F7F46EA  389742.78125  403045.1875   \n",
       "1  id067432FB-C36D-429C-B894-D3928802F8A7  579357.00000  286683.0000   \n",
       "2  id06743603-CF7F-4C33-873C-D119A305D17E  313073.00000  372924.0000   \n",
       "3  id06743886-7856-4C05-9286-07E486699FE5  327761.00000  196548.0000   \n",
       "4  id06743F0B-CD32-48DB-B08C-61A52C79A46B  336175.87500  399931.3750   \n",
       "\n",
       "          type  graph_id      distance  vertex  predecessor  \n",
       "0  pseudo node     77824   7297.651855   77824       684363  \n",
       "1     road end     77825  13623.601562   77825      2255097  \n",
       "2     junction     77826  10614.585938   77826      1627948  \n",
       "3     junction     77827  16313.569336   77827       155553  \n",
       "4     road end     77828   8897.522461   77828      2435706  "
      ]
     },
     "execution_count": 24,
     "metadata": {},
     "output_type": "execute_result"
    }
   ],
   "source": [
    "road_nodes = road_nodes.merge(mapping, on='node_id')\n",
    "road_nodes = road_nodes.merge(ex_dist, left_on='graph_id', right_on='vertex')\n",
    "road_nodes.head()"
   ]
  },
  {
   "cell_type": "markdown",
   "metadata": {},
   "source": [
    "Next, we select those columns we are going to use for the visualization.\n",
    "\n",
    "For color-scaling purposes, we get rid of the unreachable nodes with their extreme distances, and we invert the distance numbers so that brighter pixels indicate closer locations."
   ]
  },
  {
   "cell_type": "code",
   "execution_count": 25,
   "metadata": {},
   "outputs": [],
   "source": [
    "gdf = road_nodes[['east', 'north', 'distance']]\n",
    "gdf = gdf[gdf['distance'] < 2**32]\n",
    "gdf['distance'] = gdf['distance'].pow(1/2).mul(-1)"
   ]
  },
  {
   "cell_type": "markdown",
   "metadata": {},
   "source": [
    "Otherwise, this visualization will be largely similar to the scatterplots we made to visualize the population, but instead of coloring by point density as in those cases, we will color by mean travel time to the nodes within a pixel."
   ]
  },
  {
   "cell_type": "code",
   "execution_count": 26,
   "metadata": {},
   "outputs": [],
   "source": [
    "cxf_data = cxf.DataFrame.from_dataframe(gdf)"
   ]
  },
  {
   "cell_type": "code",
   "execution_count": 27,
   "metadata": {},
   "outputs": [],
   "source": [
    "chart_width = 600\n",
    "heatmap_chart = cxf.charts.datashader.scatter(x='east', y='north', \n",
    "                                              width=chart_width, \n",
    "                                              height=int((gdf['north'].max() - gdf['north'].min()) / \n",
    "                                                         (gdf['east'].max() - gdf['east'].min()) *\n",
    "                                                          chart_width),\n",
    "                                              #palettes=Plasma256, # try also Turbo256, Viridis256, Magma\n",
    "                                              #pixel_shade_type='linear', # can also be log, cbrt\n",
    "                                              aggregate_col='distance',\n",
    "                                              aggregate_fn='mean',\n",
    "                                              #point_shape='square',\n",
    "                                              point_size=1)"
   ]
  },
  {
   "cell_type": "code",
   "execution_count": null,
   "metadata": {},
   "outputs": [],
   "source": [
    "dash = cxf_data.dashboard([heatmap_chart], theme=cxf.themes.dark, data_size_widget=True)\n",
    "\n",
    "heatmap_chart.view()"
   ]
  },
  {
   "cell_type": "code",
   "execution_count": null,
   "metadata": {},
   "outputs": [],
   "source": [
    "%%js\n",
    "var host = window.location.host;\n",
    "element.innerText = \"'\"+host+\"'\";"
   ]
  },
  {
   "cell_type": "markdown",
   "metadata": {},
   "source": [
    "Set `my_url` in the next cell to the value just printed, making sure to include the quotes:"
   ]
  },
  {
   "cell_type": "code",
   "execution_count": null,
   "metadata": {},
   "outputs": [],
   "source": [
    "my_url = # TODO: Set this value to the print out of the cell above, including the quotes.\n",
    "dash.show(my_url, port=8789)"
   ]
  },
  {
   "cell_type": "markdown",
   "metadata": {},
   "source": [
    "... and you can run the next cell to generate a link to the dashboard:"
   ]
  },
  {
   "cell_type": "code",
   "execution_count": null,
   "metadata": {},
   "outputs": [],
   "source": [
    "%%js\n",
    "var host = window.location.host;\n",
    "var url = 'http://'+host+'/lab/proxy/8789/';\n",
    "element.innerHTML = '<a style=\"color:blue;\" target=\"_blank\" href='+url+'>Open Dashboard</a>';"
   ]
  },
  {
   "cell_type": "code",
   "execution_count": null,
   "metadata": {},
   "outputs": [],
   "source": [
    "dash.stop()"
   ]
  },
  {
   "cell_type": "markdown",
   "metadata": {},
   "source": [
    "## Next"
   ]
  },
  {
   "cell_type": "markdown",
   "metadata": {},
   "source": [
    "This concludes the second section of the workshop. In the third section, you'll put the skills you've learned in this workshop to the test by helping over several simulated days to address a national epidemic."
   ]
  },
  {
   "cell_type": "markdown",
   "metadata": {},
   "source": [
    "<br>\n",
    "<div align=\"center\"><h2>Optional: Restart the Kernel</h2></div>"
   ]
  },
  {
   "cell_type": "markdown",
   "metadata": {},
   "source": [
    "If you plan to do additional work in other notebookes, please restart the kernel:"
   ]
  },
  {
   "cell_type": "code",
   "execution_count": null,
   "metadata": {},
   "outputs": [],
   "source": [
    "import IPython\n",
    "app = IPython.Application.instance()\n",
    "app.kernel.do_shutdown(True)"
   ]
  }
 ],
 "metadata": {
  "kernelspec": {
   "display_name": "Python 3",
   "language": "python",
   "name": "python3"
  },
  "language_info": {
   "codemirror_mode": {
    "name": "ipython",
    "version": 3
   },
   "file_extension": ".py",
   "mimetype": "text/x-python",
   "name": "python",
   "nbconvert_exporter": "python",
   "pygments_lexer": "ipython3",
   "version": "3.7.8"
  }
 },
 "nbformat": 4,
 "nbformat_minor": 4
}
