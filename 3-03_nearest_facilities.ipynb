{
 "cells": [
  {
   "cell_type": "markdown",
   "metadata": {},
   "source": [
    "# Week 2: Identify Nearest Health Facilities"
   ]
  },
  {
   "cell_type": "markdown",
   "metadata": {},
   "source": [
    "<span style=\"color:red\">\n",
    "**UPDATE**\n",
    "\n",
    "Thank you for your analysis. Despite our warning efforts so far, the virus continues to spread rapidly. We want to get infected individuals treatment as quickly as possible, so we need your help to calculate which hospital or clinic is closest to each known infected individual in the population.\n",
    "</span>\n",
    "\n",
    "Your goal for this notebook will be to identify the nearest hospital or clinic for each infected person."
   ]
  },
  {
   "cell_type": "markdown",
   "metadata": {},
   "source": [
    "## Imports"
   ]
  },
  {
   "cell_type": "code",
   "execution_count": 1,
   "metadata": {},
   "outputs": [],
   "source": [
    "import cudf\n",
    "import cuml\n",
    "import cupy as cp"
   ]
  },
  {
   "cell_type": "markdown",
   "metadata": {},
   "source": [
    "## Load Population Data"
   ]
  },
  {
   "cell_type": "markdown",
   "metadata": {},
   "source": [
    "Begin by loading the `lat`, `long` and `infected` columns from `'./data/week2.csv'` into a cuDF data frame called `gdf`."
   ]
  },
  {
   "cell_type": "code",
   "execution_count": 14,
   "metadata": {},
   "outputs": [],
   "source": [
    "gdf = cudf.read_csv('./data/week2.csv', usecols = ['lat','long', 'infected'])"
   ]
  },
  {
   "cell_type": "markdown",
   "metadata": {},
   "source": [
    "## Load Hospital and Clinics Data"
   ]
  },
  {
   "cell_type": "markdown",
   "metadata": {},
   "source": [
    "For this step, your goal is to create an `all_med` cuDF data frame that contains the latitudes and longitudes of all the hospitals (data found at `'./data/hospitals.csv'`) and clinics (data found at `'./data/clinics.csv'`)."
   ]
  },
  {
   "cell_type": "code",
   "execution_count": 3,
   "metadata": {},
   "outputs": [
    {
     "data": {
      "text/html": [
       "<div>\n",
       "<style scoped>\n",
       "    .dataframe tbody tr th:only-of-type {\n",
       "        vertical-align: middle;\n",
       "    }\n",
       "\n",
       "    .dataframe tbody tr th {\n",
       "        vertical-align: top;\n",
       "    }\n",
       "\n",
       "    .dataframe thead th {\n",
       "        text-align: right;\n",
       "    }\n",
       "</style>\n",
       "<table border=\"1\" class=\"dataframe\">\n",
       "  <thead>\n",
       "    <tr style=\"text-align: right;\">\n",
       "      <th></th>\n",
       "      <th>﻿OrganisationID</th>\n",
       "      <th>OrganisationCode</th>\n",
       "      <th>OrganisationType</th>\n",
       "      <th>SubType</th>\n",
       "      <th>Sector</th>\n",
       "      <th>OrganisationStatus</th>\n",
       "      <th>IsPimsManaged</th>\n",
       "      <th>OrganisationName</th>\n",
       "      <th>Address1</th>\n",
       "      <th>Address2</th>\n",
       "      <th>...</th>\n",
       "      <th>County</th>\n",
       "      <th>Postcode</th>\n",
       "      <th>Latitude</th>\n",
       "      <th>Longitude</th>\n",
       "      <th>ParentODSCode</th>\n",
       "      <th>ParentName</th>\n",
       "      <th>Phone</th>\n",
       "      <th>Email</th>\n",
       "      <th>Website</th>\n",
       "      <th>Fax</th>\n",
       "    </tr>\n",
       "  </thead>\n",
       "  <tbody>\n",
       "    <tr>\n",
       "      <th>0</th>\n",
       "      <td>17970</td>\n",
       "      <td>NDA07</td>\n",
       "      <td>Hospital</td>\n",
       "      <td>Hospital</td>\n",
       "      <td>Independent Sector</td>\n",
       "      <td>Visible</td>\n",
       "      <td>True</td>\n",
       "      <td>Walton Community Hospital - Virgin Care Servic...</td>\n",
       "      <td>&lt;NA&gt;</td>\n",
       "      <td>Rodney Road</td>\n",
       "      <td>...</td>\n",
       "      <td>Surrey</td>\n",
       "      <td>KT12 3LD</td>\n",
       "      <td>51.37999725</td>\n",
       "      <td>-0.406042069</td>\n",
       "      <td>NDA</td>\n",
       "      <td>Virgin Care Services Ltd</td>\n",
       "      <td>01932 414205</td>\n",
       "      <td>&lt;NA&gt;</td>\n",
       "      <td>&lt;NA&gt;</td>\n",
       "      <td>01932 253674</td>\n",
       "    </tr>\n",
       "    <tr>\n",
       "      <th>1</th>\n",
       "      <td>17981</td>\n",
       "      <td>NDA18</td>\n",
       "      <td>Hospital</td>\n",
       "      <td>Hospital</td>\n",
       "      <td>Independent Sector</td>\n",
       "      <td>Visible</td>\n",
       "      <td>True</td>\n",
       "      <td>Woking Community Hospital (Virgin Care)</td>\n",
       "      <td>&lt;NA&gt;</td>\n",
       "      <td>Heathside Road</td>\n",
       "      <td>...</td>\n",
       "      <td>Surrey</td>\n",
       "      <td>GU22 7HS</td>\n",
       "      <td>51.31513214</td>\n",
       "      <td>-0.556289494</td>\n",
       "      <td>NDA</td>\n",
       "      <td>Virgin Care Services Ltd</td>\n",
       "      <td>01483 715911</td>\n",
       "      <td>&lt;NA&gt;</td>\n",
       "      <td>&lt;NA&gt;</td>\n",
       "      <td>&lt;NA&gt;</td>\n",
       "    </tr>\n",
       "    <tr>\n",
       "      <th>2</th>\n",
       "      <td>18102</td>\n",
       "      <td>NLT02</td>\n",
       "      <td>Hospital</td>\n",
       "      <td>Hospital</td>\n",
       "      <td>NHS Sector</td>\n",
       "      <td>Visible</td>\n",
       "      <td>True</td>\n",
       "      <td>North Somerset Community Hospital</td>\n",
       "      <td>North Somerset Community Hospital</td>\n",
       "      <td>Old Street</td>\n",
       "      <td>...</td>\n",
       "      <td>Avon</td>\n",
       "      <td>BS21 6BS</td>\n",
       "      <td>51.43719482</td>\n",
       "      <td>-2.847192764</td>\n",
       "      <td>NLT</td>\n",
       "      <td>North Somerset Community Partnership Community...</td>\n",
       "      <td>01275 872212</td>\n",
       "      <td>&lt;NA&gt;</td>\n",
       "      <td>http://www.nscphealth.co.uk</td>\n",
       "      <td>&lt;NA&gt;</td>\n",
       "    </tr>\n",
       "    <tr>\n",
       "      <th>3</th>\n",
       "      <td>18138</td>\n",
       "      <td>NMP01</td>\n",
       "      <td>Hospital</td>\n",
       "      <td>Hospital</td>\n",
       "      <td>Independent Sector</td>\n",
       "      <td>Visible</td>\n",
       "      <td>False</td>\n",
       "      <td>Bridgewater Hospital</td>\n",
       "      <td>120 Princess Road</td>\n",
       "      <td>&lt;NA&gt;</td>\n",
       "      <td>...</td>\n",
       "      <td>Greater Manchester</td>\n",
       "      <td>M15 5AT</td>\n",
       "      <td>53.4597435</td>\n",
       "      <td>-2.245468855</td>\n",
       "      <td>NMP</td>\n",
       "      <td>Bridgewater Hospital (Manchester) Ltd</td>\n",
       "      <td>0161 2270000</td>\n",
       "      <td>&lt;NA&gt;</td>\n",
       "      <td>www.bridgewaterhospital.com</td>\n",
       "      <td>&lt;NA&gt;</td>\n",
       "    </tr>\n",
       "    <tr>\n",
       "      <th>4</th>\n",
       "      <td>18142</td>\n",
       "      <td>NMV01</td>\n",
       "      <td>Hospital</td>\n",
       "      <td>Hospital</td>\n",
       "      <td>Independent Sector</td>\n",
       "      <td>Visible</td>\n",
       "      <td>True</td>\n",
       "      <td>Kneesworth House</td>\n",
       "      <td>Old North Road</td>\n",
       "      <td>Bassingbourn</td>\n",
       "      <td>...</td>\n",
       "      <td>&lt;NA&gt;</td>\n",
       "      <td>SG8 5JP</td>\n",
       "      <td>52.07812119</td>\n",
       "      <td>-0.030604055</td>\n",
       "      <td>NMV</td>\n",
       "      <td>Partnerships In Care Ltd</td>\n",
       "      <td>01763 255 700</td>\n",
       "      <td>reception_kneesworthhouse@partnershipsincare.c...</td>\n",
       "      <td>www.partnershipsincare.co.uk</td>\n",
       "      <td>&lt;NA&gt;</td>\n",
       "    </tr>\n",
       "    <tr>\n",
       "      <th>...</th>\n",
       "      <td>...</td>\n",
       "      <td>...</td>\n",
       "      <td>...</td>\n",
       "      <td>...</td>\n",
       "      <td>...</td>\n",
       "      <td>...</td>\n",
       "      <td>...</td>\n",
       "      <td>...</td>\n",
       "      <td>...</td>\n",
       "      <td>...</td>\n",
       "      <td>...</td>\n",
       "      <td>...</td>\n",
       "      <td>...</td>\n",
       "      <td>...</td>\n",
       "      <td>...</td>\n",
       "      <td>...</td>\n",
       "      <td>...</td>\n",
       "      <td>...</td>\n",
       "      <td>...</td>\n",
       "      <td>...</td>\n",
       "      <td>...</td>\n",
       "    </tr>\n",
       "    <tr>\n",
       "      <th>1224</th>\n",
       "      <td>10617466</td>\n",
       "      <td>RTH18</td>\n",
       "      <td>Hospital</td>\n",
       "      <td>UNKNOWN</td>\n",
       "      <td>Independent Sector</td>\n",
       "      <td>Visible</td>\n",
       "      <td>False</td>\n",
       "      <td>University Hospital Of Wales</td>\n",
       "      <td>C/O John Radcliffe Hospital</td>\n",
       "      <td>Headley Way</td>\n",
       "      <td>...</td>\n",
       "      <td>&lt;NA&gt;</td>\n",
       "      <td>OX3 9DU</td>\n",
       "      <td>51.76387405</td>\n",
       "      <td>-1.219792008</td>\n",
       "      <td>RTH</td>\n",
       "      <td>Oxford University Hospitals NHS Foundation Trust</td>\n",
       "      <td>&lt;NA&gt;</td>\n",
       "      <td>&lt;NA&gt;</td>\n",
       "      <td>&lt;NA&gt;</td>\n",
       "      <td>&lt;NA&gt;</td>\n",
       "    </tr>\n",
       "    <tr>\n",
       "      <th>1225</th>\n",
       "      <td>10617482</td>\n",
       "      <td>RX3KI</td>\n",
       "      <td>Hospital</td>\n",
       "      <td>UNKNOWN</td>\n",
       "      <td>Independent Sector</td>\n",
       "      <td>Visible</td>\n",
       "      <td>False</td>\n",
       "      <td>Foss Park Hospital</td>\n",
       "      <td>Huntington House</td>\n",
       "      <td>Jockey Lane</td>\n",
       "      <td>...</td>\n",
       "      <td>&lt;NA&gt;</td>\n",
       "      <td>YO32 9XW</td>\n",
       "      <td>53.98666382</td>\n",
       "      <td>-1.051122308</td>\n",
       "      <td>RX3</td>\n",
       "      <td>Tees, Esk and Wear Valleys NHS Foundation Trust</td>\n",
       "      <td>&lt;NA&gt;</td>\n",
       "      <td>&lt;NA&gt;</td>\n",
       "      <td>&lt;NA&gt;</td>\n",
       "      <td>&lt;NA&gt;</td>\n",
       "    </tr>\n",
       "    <tr>\n",
       "      <th>1226</th>\n",
       "      <td>10617567</td>\n",
       "      <td>RGT1W</td>\n",
       "      <td>Hospital</td>\n",
       "      <td>UNKNOWN</td>\n",
       "      <td>Independent Sector</td>\n",
       "      <td>Visible</td>\n",
       "      <td>False</td>\n",
       "      <td>Jersey General Hospital</td>\n",
       "      <td>The Parade</td>\n",
       "      <td>&lt;NA&gt;</td>\n",
       "      <td>...</td>\n",
       "      <td>&lt;NA&gt;</td>\n",
       "      <td>JE1 3UH</td>\n",
       "      <td>&lt;NA&gt;</td>\n",
       "      <td>&lt;NA&gt;</td>\n",
       "      <td>RGT</td>\n",
       "      <td>Cambridge University Hospitals NHS Foundation ...</td>\n",
       "      <td>&lt;NA&gt;</td>\n",
       "      <td>&lt;NA&gt;</td>\n",
       "      <td>&lt;NA&gt;</td>\n",
       "      <td>&lt;NA&gt;</td>\n",
       "    </tr>\n",
       "    <tr>\n",
       "      <th>1227</th>\n",
       "      <td>10617714</td>\n",
       "      <td>RAX0A</td>\n",
       "      <td>Hospital</td>\n",
       "      <td>UNKNOWN</td>\n",
       "      <td>Independent Sector</td>\n",
       "      <td>Visible</td>\n",
       "      <td>False</td>\n",
       "      <td>London North West University Hospitals</td>\n",
       "      <td>Watford Road</td>\n",
       "      <td>&lt;NA&gt;</td>\n",
       "      <td>...</td>\n",
       "      <td>&lt;NA&gt;</td>\n",
       "      <td>HA1 3UJ</td>\n",
       "      <td>51.57540894</td>\n",
       "      <td>-0.322022736</td>\n",
       "      <td>RAX</td>\n",
       "      <td>Kingston Hospital NHS Foundation Trust</td>\n",
       "      <td>&lt;NA&gt;</td>\n",
       "      <td>&lt;NA&gt;</td>\n",
       "      <td>&lt;NA&gt;</td>\n",
       "      <td>&lt;NA&gt;</td>\n",
       "    </tr>\n",
       "    <tr>\n",
       "      <th>1228</th>\n",
       "      <td>10617726</td>\n",
       "      <td>RDU5A</td>\n",
       "      <td>Hospital</td>\n",
       "      <td>UNKNOWN</td>\n",
       "      <td>Independent Sector</td>\n",
       "      <td>Visible</td>\n",
       "      <td>False</td>\n",
       "      <td>John Radcliffe Hospital</td>\n",
       "      <td>Headley Way</td>\n",
       "      <td>Headington</td>\n",
       "      <td>...</td>\n",
       "      <td>&lt;NA&gt;</td>\n",
       "      <td>OX3 9DU</td>\n",
       "      <td>51.76387405</td>\n",
       "      <td>-1.219792008</td>\n",
       "      <td>RDU</td>\n",
       "      <td>Frimley Health NHS Foundation Trust</td>\n",
       "      <td>&lt;NA&gt;</td>\n",
       "      <td>&lt;NA&gt;</td>\n",
       "      <td>&lt;NA&gt;</td>\n",
       "      <td>&lt;NA&gt;</td>\n",
       "    </tr>\n",
       "  </tbody>\n",
       "</table>\n",
       "<p>2458 rows × 22 columns</p>\n",
       "</div>"
      ],
      "text/plain": [
       "      ﻿OrganisationID OrganisationCode OrganisationType   SubType  \\\n",
       "0               17970            NDA07         Hospital  Hospital   \n",
       "1               17981            NDA18         Hospital  Hospital   \n",
       "2               18102            NLT02         Hospital  Hospital   \n",
       "3               18138            NMP01         Hospital  Hospital   \n",
       "4               18142            NMV01         Hospital  Hospital   \n",
       "...               ...              ...              ...       ...   \n",
       "1224         10617466            RTH18         Hospital   UNKNOWN   \n",
       "1225         10617482            RX3KI         Hospital   UNKNOWN   \n",
       "1226         10617567            RGT1W         Hospital   UNKNOWN   \n",
       "1227         10617714            RAX0A         Hospital   UNKNOWN   \n",
       "1228         10617726            RDU5A         Hospital   UNKNOWN   \n",
       "\n",
       "                  Sector OrganisationStatus  IsPimsManaged  \\\n",
       "0     Independent Sector            Visible           True   \n",
       "1     Independent Sector            Visible           True   \n",
       "2             NHS Sector            Visible           True   \n",
       "3     Independent Sector            Visible          False   \n",
       "4     Independent Sector            Visible           True   \n",
       "...                  ...                ...            ...   \n",
       "1224  Independent Sector            Visible          False   \n",
       "1225  Independent Sector            Visible          False   \n",
       "1226  Independent Sector            Visible          False   \n",
       "1227  Independent Sector            Visible          False   \n",
       "1228  Independent Sector            Visible          False   \n",
       "\n",
       "                                       OrganisationName  \\\n",
       "0     Walton Community Hospital - Virgin Care Servic...   \n",
       "1               Woking Community Hospital (Virgin Care)   \n",
       "2                     North Somerset Community Hospital   \n",
       "3                                  Bridgewater Hospital   \n",
       "4                                      Kneesworth House   \n",
       "...                                                 ...   \n",
       "1224                       University Hospital Of Wales   \n",
       "1225                                 Foss Park Hospital   \n",
       "1226                            Jersey General Hospital   \n",
       "1227             London North West University Hospitals   \n",
       "1228                            John Radcliffe Hospital   \n",
       "\n",
       "                               Address1        Address2  ...  \\\n",
       "0                                  <NA>     Rodney Road  ...   \n",
       "1                                  <NA>  Heathside Road  ...   \n",
       "2     North Somerset Community Hospital      Old Street  ...   \n",
       "3                     120 Princess Road            <NA>  ...   \n",
       "4                        Old North Road    Bassingbourn  ...   \n",
       "...                                 ...             ...  ...   \n",
       "1224        C/O John Radcliffe Hospital     Headley Way  ...   \n",
       "1225                   Huntington House     Jockey Lane  ...   \n",
       "1226                         The Parade            <NA>  ...   \n",
       "1227                       Watford Road            <NA>  ...   \n",
       "1228                        Headley Way      Headington  ...   \n",
       "\n",
       "                  County  Postcode     Latitude     Longitude ParentODSCode  \\\n",
       "0                 Surrey  KT12 3LD  51.37999725  -0.406042069           NDA   \n",
       "1                 Surrey  GU22 7HS  51.31513214  -0.556289494           NDA   \n",
       "2                   Avon  BS21 6BS  51.43719482  -2.847192764           NLT   \n",
       "3     Greater Manchester   M15 5AT   53.4597435  -2.245468855           NMP   \n",
       "4                   <NA>   SG8 5JP  52.07812119  -0.030604055           NMV   \n",
       "...                  ...       ...          ...           ...           ...   \n",
       "1224                <NA>   OX3 9DU  51.76387405  -1.219792008           RTH   \n",
       "1225                <NA>  YO32 9XW  53.98666382  -1.051122308           RX3   \n",
       "1226                <NA>   JE1 3UH         <NA>          <NA>           RGT   \n",
       "1227                <NA>   HA1 3UJ  51.57540894  -0.322022736           RAX   \n",
       "1228                <NA>   OX3 9DU  51.76387405  -1.219792008           RDU   \n",
       "\n",
       "                                             ParentName          Phone  \\\n",
       "0                              Virgin Care Services Ltd   01932 414205   \n",
       "1                              Virgin Care Services Ltd   01483 715911   \n",
       "2     North Somerset Community Partnership Community...   01275 872212   \n",
       "3                 Bridgewater Hospital (Manchester) Ltd   0161 2270000   \n",
       "4                              Partnerships In Care Ltd  01763 255 700   \n",
       "...                                                 ...            ...   \n",
       "1224   Oxford University Hospitals NHS Foundation Trust           <NA>   \n",
       "1225    Tees, Esk and Wear Valleys NHS Foundation Trust           <NA>   \n",
       "1226  Cambridge University Hospitals NHS Foundation ...           <NA>   \n",
       "1227             Kingston Hospital NHS Foundation Trust           <NA>   \n",
       "1228                Frimley Health NHS Foundation Trust           <NA>   \n",
       "\n",
       "                                                  Email  \\\n",
       "0                                                  <NA>   \n",
       "1                                                  <NA>   \n",
       "2                                                  <NA>   \n",
       "3                                                  <NA>   \n",
       "4     reception_kneesworthhouse@partnershipsincare.c...   \n",
       "...                                                 ...   \n",
       "1224                                               <NA>   \n",
       "1225                                               <NA>   \n",
       "1226                                               <NA>   \n",
       "1227                                               <NA>   \n",
       "1228                                               <NA>   \n",
       "\n",
       "                           Website           Fax  \n",
       "0                             <NA>  01932 253674  \n",
       "1                             <NA>          <NA>  \n",
       "2      http://www.nscphealth.co.uk          <NA>  \n",
       "3      www.bridgewaterhospital.com          <NA>  \n",
       "4     www.partnershipsincare.co.uk          <NA>  \n",
       "...                            ...           ...  \n",
       "1224                          <NA>          <NA>  \n",
       "1225                          <NA>          <NA>  \n",
       "1226                          <NA>          <NA>  \n",
       "1227                          <NA>          <NA>  \n",
       "1228                          <NA>          <NA>  \n",
       "\n",
       "[2458 rows x 22 columns]"
      ]
     },
     "execution_count": 3,
     "metadata": {},
     "output_type": "execute_result"
    }
   ],
   "source": [
    "all_med = cudf.read_csv('./data/hospitals.csv')\n",
    "all_med.append(cudf.read_csv('./data/hospitals.csv'))"
   ]
  },
  {
   "cell_type": "markdown",
   "metadata": {},
   "source": [
    "Since we will be using the coordinates of those facilities, keep only those rows that are non-null in both  `Latitude` and `Longitude`."
   ]
  },
  {
   "cell_type": "code",
   "execution_count": 10,
   "metadata": {},
   "outputs": [],
   "source": [
    "all_med.dropna(subset=['Latitude','Longitude'], inplace= True)"
   ]
  },
  {
   "cell_type": "markdown",
   "metadata": {},
   "source": [
    "## Make Grid Coordinates for Medical Facilities"
   ]
  },
  {
   "cell_type": "markdown",
   "metadata": {},
   "source": [
    "Provided for you in the next cell (which you can expand by clicking on the \"...\", and contract again after executing by clicking on the blue left border of the cell) is the lat/long to grid coordinates converter you have used earlier in the workshop. Use this converter to create grid coordinate values stored in `northing` and `easting` columns of the `all_med` data frame you created in the last step."
   ]
  },
  {
   "cell_type": "code",
   "execution_count": 5,
   "metadata": {},
   "outputs": [],
   "source": [
    "# https://www.ordnancesurvey.co.uk/docs/support/guide-coordinate-systems-great-britain.pdf\n",
    "\n",
    "def latlong2osgbgrid_cupy(lat, long, input_degrees=True):\n",
    "    '''\n",
    "    Converts latitude and longitude (ellipsoidal) coordinates into northing and easting (grid) coordinates, using a Transverse Mercator projection.\n",
    "    \n",
    "    Inputs:\n",
    "    lat: latitude coordinate (N)\n",
    "    long: longitude coordinate (E)\n",
    "    input_degrees: if True (default), interprets the coordinates as degrees; otherwise, interprets coordinates as radians\n",
    "    \n",
    "    Output:\n",
    "    (northing, easting)\n",
    "    '''\n",
    "    \n",
    "    if input_degrees:\n",
    "        lat = lat * cp.pi/180\n",
    "        long = long * cp.pi/180\n",
    "\n",
    "    a = 6377563.396\n",
    "    b = 6356256.909\n",
    "    e2 = (a**2 - b**2) / a**2\n",
    "\n",
    "    N0 = -100000 # northing of true origin\n",
    "    E0 = 400000 # easting of true origin\n",
    "    F0 = .9996012717 # scale factor on central meridian\n",
    "    phi0 = 49 * cp.pi / 180 # latitude of true origin\n",
    "    lambda0 = -2 * cp.pi / 180 # longitude of true origin and central meridian\n",
    "    \n",
    "    sinlat = cp.sin(lat)\n",
    "    coslat = cp.cos(lat)\n",
    "    tanlat = cp.tan(lat)\n",
    "    \n",
    "    latdiff = lat-phi0\n",
    "    longdiff = long-lambda0\n",
    "\n",
    "    n = (a-b) / (a+b)\n",
    "    nu = a * F0 * (1 - e2 * sinlat ** 2) ** -.5\n",
    "    rho = a * F0 * (1 - e2) * (1 - e2 * sinlat ** 2) ** -1.5\n",
    "    eta2 = nu / rho - 1\n",
    "    M = b * F0 * ((1 + n + 5/4 * (n**2 + n**3)) * latdiff - \n",
    "                  (3*(n+n**2) + 21/8 * n**3) * cp.sin(latdiff) * cp.cos(lat+phi0) +\n",
    "                  15/8 * (n**2 + n**3) * cp.sin(2*(latdiff)) * cp.cos(2*(lat+phi0)) - \n",
    "                  35/24 * n**3 * cp.sin(3*(latdiff)) * cp.cos(3*(lat+phi0)))\n",
    "    I = M + N0\n",
    "    II = nu/2 * sinlat * coslat\n",
    "    III = nu/24 * sinlat * coslat ** 3 * (5 - tanlat ** 2 + 9 * eta2)\n",
    "    IIIA = nu/720 * sinlat * coslat ** 5 * (61-58 * tanlat**2 + tanlat**4)\n",
    "    IV = nu * coslat\n",
    "    V = nu / 6 * coslat**3 * (nu/rho - cp.tan(lat)**2)\n",
    "    VI = nu / 120 * coslat ** 5 * (5 - 18 * tanlat**2 + tanlat**4 + 14 * eta2 - 58 * tanlat**2 * eta2)\n",
    "\n",
    "    northing = I + II * longdiff**2 + III * longdiff**4 + IIIA * longdiff**6\n",
    "    easting = E0 + IV * longdiff + V * longdiff**3 + VI * longdiff**5\n",
    "\n",
    "    return(northing, easting)"
   ]
  },
  {
   "cell_type": "code",
   "execution_count": 16,
   "metadata": {},
   "outputs": [],
   "source": [
    "med_lat = cp.asarray(all_med['Latitude'])\n",
    "med_long = cp.asarray(all_med['Longitude'])\n",
    "northing, easting = latlong2osgbgrid_cupy(med_lat, med_long)\n",
    "all_med['northing'], all_med['easting'] = northing, easting"
   ]
  },
  {
   "cell_type": "markdown",
   "metadata": {},
   "source": [
    "## Find Closest Hospital or Clinic for Infected"
   ]
  },
  {
   "cell_type": "markdown",
   "metadata": {},
   "source": [
    "Fit `cuml.NearestNeighbors` with `all_med`'s `northing` and `easting` values, using the named argument `n_neighbors` set to `1`, and save the model as `knn`."
   ]
  },
  {
   "cell_type": "code",
   "execution_count": 17,
   "metadata": {},
   "outputs": [
    {
     "data": {
      "text/plain": [
       "NearestNeighbors(n_neighbors=1, verbose=4, handle=<cuml.common.handle.Handle object at 0x7f1c087a81f0>, algorithm='brute', metric='euclidean', p=2, metric_params=None, output_type='cudf')"
      ]
     },
     "execution_count": 17,
     "metadata": {},
     "output_type": "execute_result"
    }
   ],
   "source": [
    "knn = cuml.NearestNeighbors(n_neighbors = 1)\n",
    "knn.fit(all_med[['northing','easting']])"
   ]
  },
  {
   "cell_type": "markdown",
   "metadata": {},
   "source": [
    "Save every infected member in `gdf` into a new dataframe called `infected_gdf`."
   ]
  },
  {
   "cell_type": "code",
   "execution_count": 24,
   "metadata": {},
   "outputs": [],
   "source": [
    "infected_gdf = gdf.loc[gdf['infected'] == 1]"
   ]
  },
  {
   "cell_type": "markdown",
   "metadata": {},
   "source": [
    "Create `northing` and `easting` values for `infected_gdf`."
   ]
  },
  {
   "cell_type": "code",
   "execution_count": 29,
   "metadata": {},
   "outputs": [],
   "source": [
    "infected_gdf_lat = cp.asarray(infected_gdf['lat'])\n",
    "infected_gdf_long = cp.asarray(infected_gdf['long'])\n",
    "northing, easting= latlong2osgbgrid_cupy(infected_gdf_lat,infected_gdf_long)\n",
    "infected_gdf['northing'], infected_gdf['easting'] = northing, easting"
   ]
  },
  {
   "cell_type": "markdown",
   "metadata": {},
   "source": [
    "Use `knn.kneighbors` with `n_neighbors=1` on `infected_gdf`'s `northing` and `easting` values. Save the return values in `distances` and `indices`."
   ]
  },
  {
   "cell_type": "code",
   "execution_count": 30,
   "metadata": {},
   "outputs": [],
   "source": [
    "distances, indices = knn.kneighbors(infected_gdf[['northing','easting']])"
   ]
  },
  {
   "cell_type": "markdown",
   "metadata": {},
   "source": [
    "### Check Your Solution"
   ]
  },
  {
   "cell_type": "markdown",
   "metadata": {},
   "source": [
    "`indices`, returned from your use of `knn.kneighbors` immediately above, should map person indices to their closest clinic/hospital indices:"
   ]
  },
  {
   "cell_type": "code",
   "execution_count": 31,
   "metadata": {},
   "outputs": [
    {
     "data": {
      "text/plain": [
       "0    648\n",
       "1    648\n",
       "2    648\n",
       "3    648\n",
       "4    650\n",
       "dtype: int64"
      ]
     },
     "execution_count": 31,
     "metadata": {},
     "output_type": "execute_result"
    }
   ],
   "source": [
    "indices.head()"
   ]
  },
  {
   "cell_type": "markdown",
   "metadata": {},
   "source": [
    "Here you can print an infected individual's coordinates from `infected_gdf`:"
   ]
  },
  {
   "cell_type": "code",
   "execution_count": 32,
   "metadata": {},
   "outputs": [
    {
     "data": {
      "text/plain": [
       "lat             53.715826\n",
       "long            -2.430079\n",
       "infected         1.000000\n",
       "norhting    424489.783814\n",
       "easting     371619.678741\n",
       "northing    424489.783814\n",
       "Name: 1346586, dtype: float64"
      ]
     },
     "execution_count": 32,
     "metadata": {},
     "output_type": "execute_result"
    }
   ],
   "source": [
    "infected_gdf.iloc[0] # get the coords of an infected individual (in this case, individual 0)"
   ]
  },
  {
   "cell_type": "markdown",
   "metadata": {},
   "source": [
    "You should be able to used the mapped index for the nearest facility to see that indeed the nearest facility is at a nearby coordinate:"
   ]
  },
  {
   "cell_type": "code",
   "execution_count": 33,
   "metadata": {},
   "outputs": [
    {
     "data": {
      "text/html": [
       "<div>\n",
       "<style scoped>\n",
       "    .dataframe tbody tr th:only-of-type {\n",
       "        vertical-align: middle;\n",
       "    }\n",
       "\n",
       "    .dataframe tbody tr th {\n",
       "        vertical-align: top;\n",
       "    }\n",
       "\n",
       "    .dataframe thead th {\n",
       "        text-align: right;\n",
       "    }\n",
       "</style>\n",
       "<table border=\"1\" class=\"dataframe\">\n",
       "  <thead>\n",
       "    <tr style=\"text-align: right;\">\n",
       "      <th></th>\n",
       "      <th>﻿OrganisationID</th>\n",
       "      <th>OrganisationCode</th>\n",
       "      <th>OrganisationType</th>\n",
       "      <th>SubType</th>\n",
       "      <th>Sector</th>\n",
       "      <th>OrganisationStatus</th>\n",
       "      <th>IsPimsManaged</th>\n",
       "      <th>OrganisationName</th>\n",
       "      <th>Address1</th>\n",
       "      <th>Address2</th>\n",
       "      <th>...</th>\n",
       "      <th>Latitude</th>\n",
       "      <th>Longitude</th>\n",
       "      <th>ParentODSCode</th>\n",
       "      <th>ParentName</th>\n",
       "      <th>Phone</th>\n",
       "      <th>Email</th>\n",
       "      <th>Website</th>\n",
       "      <th>Fax</th>\n",
       "      <th>northing</th>\n",
       "      <th>easting</th>\n",
       "    </tr>\n",
       "  </thead>\n",
       "  <tbody>\n",
       "  </tbody>\n",
       "</table>\n",
       "<p>0 rows × 24 columns</p>\n",
       "</div>"
      ],
      "text/plain": [
       "Empty DataFrame\n",
       "Columns: [﻿OrganisationID, OrganisationCode, OrganisationType, SubType, Sector, OrganisationStatus, IsPimsManaged, OrganisationName, Address1, Address2, Address3, Latitude, Longitude, ParentODSCode, ParentName, Phone, Email, Website, Fax, northing, easting]\n",
       "Index: []\n",
       "\n",
       "[0 rows x 24 columns]"
      ]
     },
     "execution_count": 33,
     "metadata": {},
     "output_type": "execute_result"
    }
   ],
   "source": [
    "all_med.iloc[1234] # printing the entry for facility 1234 (replace with the index identified as closest to the individual)"
   ]
  },
  {
   "cell_type": "markdown",
   "metadata": {},
   "source": [
    "<div align=\"center\"><h2>Please Restart the Kernel</h2></div>"
   ]
  },
  {
   "cell_type": "markdown",
   "metadata": {},
   "source": [
    "...before moving to the next notebook."
   ]
  },
  {
   "cell_type": "code",
   "execution_count": null,
   "metadata": {},
   "outputs": [],
   "source": [
    "import IPython\n",
    "app = IPython.Application.instance()\n",
    "app.kernel.do_shutdown(True)"
   ]
  }
 ],
 "metadata": {
  "kernelspec": {
   "display_name": "Python 3",
   "language": "python",
   "name": "python3"
  },
  "language_info": {
   "codemirror_mode": {
    "name": "ipython",
    "version": 3
   },
   "file_extension": ".py",
   "mimetype": "text/x-python",
   "name": "python",
   "nbconvert_exporter": "python",
   "pygments_lexer": "ipython3",
   "version": "3.7.8"
  }
 },
 "nbformat": 4,
 "nbformat_minor": 4
}
